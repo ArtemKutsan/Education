{
 "cells": [
  {
   "cell_type": "markdown",
   "metadata": {},
   "source": [
    "<link rel=\"stylesheet\" type=\"text/css\" href=\"../styles/styles.css\">\n",
    "\n",
    "### 1.1"
   ]
  },
  {
   "cell_type": "code",
   "execution_count": 1,
   "metadata": {},
   "outputs": [
    {
     "name": "stdout",
     "output_type": "stream",
     "text": [
      "Элемент c[2][1]​ матрицы C: 10\n"
     ]
    }
   ],
   "source": [
    "# Перемножение матриц\n",
    "# Импорт библиотек\n",
    "import numpy as np  # библиотека для работы с массивами\n",
    "\n",
    "# Создаем матрицы A и B\n",
    "A = np.array([[1, 2], [3, 4]])\n",
    "B = np.array([[2, 4], [1, 3]])\n",
    "\n",
    "# Вычисляем произведение матриц A и B\n",
    "C = np.dot(A, B)\n",
    "\n",
    "# Выводим результат\n",
    "print('Элемент c[2][1]​ матрицы C:', C[1][0])"
   ]
  },
  {
   "cell_type": "code",
   "execution_count": 2,
   "metadata": {},
   "outputs": [
    {
     "name": "stdout",
     "output_type": "stream",
     "text": [
      "Значение производной функции в точке x = 0: 0.25\n"
     ]
    }
   ],
   "source": [
    "# Значение производной функции\n",
    "# Импорт библиотек\n",
    "from sympy import symbols, diff, exp  # функции и классы для вычисления уравнений\n",
    "\n",
    "# Определяем символ x\n",
    "x = symbols('x')\n",
    "\n",
    "# Определяем функцию f(x)\n",
    "f = 1 / (1 + exp(-x))\n",
    "\n",
    "# Вычисляем производную функции f(x)\n",
    "f_prime = diff(f, x)\n",
    "\n",
    "# Вычисляем значение производной в точке x = 0\n",
    "derivative_value = f_prime.subs(x, 0)\n",
    "\n",
    "# Выводим результат\n",
    "print('Значение производной функции в точке x = 0:', float(derivative_value))"
   ]
  }
 ],
 "metadata": {
  "kernelspec": {
   "display_name": "Python 3",
   "language": "python",
   "name": "python3"
  },
  "language_info": {
   "codemirror_mode": {
    "name": "ipython",
    "version": 3
   },
   "file_extension": ".py",
   "mimetype": "text/x-python",
   "name": "python",
   "nbconvert_exporter": "python",
   "pygments_lexer": "ipython3",
   "version": "3.11.2"
  }
 },
 "nbformat": 4,
 "nbformat_minor": 2
}
