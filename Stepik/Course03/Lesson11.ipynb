{
 "cells": [
  {
   "cell_type": "markdown",
   "metadata": {},
   "source": [
    "<link rel=\"stylesheet\" type=\"text/css\" href=\"../styles/styles.css\">\n",
    "\n",
    "### 1.1"
   ]
  },
  {
   "cell_type": "code",
   "execution_count": 1,
   "metadata": {},
   "outputs": [
    {
     "name": "stdout",
     "output_type": "stream",
     "text": [
      "Косинус угла между векторами: 0.8944\n"
     ]
    }
   ],
   "source": [
    "# Косинус угла между векторами по формулам\n",
    "# Определяем векторы a и b\n",
    "a = (0.5, 0)\n",
    "b = (2, 1)\n",
    "\n",
    "# Вычисляем скалярное произведение векторов a и b\n",
    "dot_product = a[0] * b[0] + a[1] * b[1]\n",
    "\n",
    "# Вычисляем длины векторов a и b\n",
    "length_a = (a[0] ** 2 + a[1] ** 2) ** 0.5\n",
    "length_b = (b[0] ** 2 + b[1] ** 2) ** 0.5\n",
    "\n",
    "# Вычисляем косинус угла между векторами a и b\n",
    "cosine_angle = dot_product / (length_a * length_b)\n",
    "\n",
    "# Выводим результат\n",
    "print('Косинус угла между векторами:', round(cosine_angle, 4))"
   ]
  },
  {
   "cell_type": "code",
   "execution_count": 2,
   "metadata": {},
   "outputs": [
    {
     "name": "stdout",
     "output_type": "stream",
     "text": [
      "Косинус угла между векторами: 0.8944\n"
     ]
    }
   ],
   "source": [
    "# Косинус угла между векторами с numpy\n",
    "# Импорт библиотек\n",
    "import numpy as np  # библиотека для работы с массивами\n",
    "\n",
    "# Определяем векторы (массивы numpy) a и b\n",
    "a = np.array([0.5, 0])\n",
    "b = np.array([2, 1])\n",
    "\n",
    "# Вычисляем скалярное произведение векторов a и b\n",
    "dot_product = np.dot(a, b)\n",
    "\n",
    "# Вычисляем длины векторов a и b\n",
    "length_a = np.linalg.norm(a)\n",
    "length_b = np.linalg.norm(b)\n",
    "\n",
    "# Вычисляем косинус угла между векторами a и b\n",
    "cosine_angle = dot_product / (length_a * length_b)\n",
    "\n",
    "# Выводим результат\n",
    "print('Косинус угла между векторами:', round(cosine_angle, 4))"
   ]
  },
  {
   "cell_type": "code",
   "execution_count": 3,
   "metadata": {},
   "outputs": [
    {
     "name": "stdout",
     "output_type": "stream",
     "text": [
      "Косинус угла между векторами: 0.8944\n"
     ]
    }
   ],
   "source": [
    "# Косинус угла между векторами с sklearn\n",
    "# Импорт библиотек\n",
    "from sklearn.metrics.pairwise import cosine_similarity\n",
    "\n",
    "# Определяем векторы a и b\n",
    "a = [[0.5, 0]]\n",
    "b = [[2, 1]]\n",
    "\n",
    "# Вычисляем косинус угла между векторами a и b\n",
    "cosine_angle = cosine_similarity(a, b).item()\n",
    "\n",
    "# Выводим результат\n",
    "print('Косинус угла между векторами:', round(cosine_angle, 4))"
   ]
  },
  {
   "cell_type": "code",
   "execution_count": 4,
   "metadata": {},
   "outputs": [
    {
     "name": "stdout",
     "output_type": "stream",
     "text": [
      "Элемент c[2][1]​ матрицы C: 10\n"
     ]
    }
   ],
   "source": [
    "# Перемножение матриц\n",
    "# Импорт библиотек\n",
    "import numpy as np  # библиотека для работы с массивами\n",
    "\n",
    "# Создаем матрицы A и B\n",
    "A = np.array([[1, 2], [3, 4]])\n",
    "B = np.array([[2, 4], [1, 3]])\n",
    "\n",
    "# Вычисляем произведение матриц A и B\n",
    "C = np.dot(A, B)\n",
    "\n",
    "# Выводим результат\n",
    "print('Элемент c[2][1]​ матрицы C:', C[1][0])"
   ]
  },
  {
   "cell_type": "code",
   "execution_count": 5,
   "metadata": {},
   "outputs": [
    {
     "name": "stdout",
     "output_type": "stream",
     "text": [
      "Значение производной функции в точке x = 0: 0.25\n"
     ]
    }
   ],
   "source": [
    "# Значение производной функции\n",
    "# Импорт библиотек\n",
    "from sympy import symbols, diff, exp  # функции и классы для вычисления уравнений\n",
    "\n",
    "# Определяем символ x\n",
    "x = symbols('x')\n",
    "\n",
    "# Определяем функцию f(x)\n",
    "f = 1 / (1 + exp(-x))\n",
    "\n",
    "# Вычисляем производную функции f(x)\n",
    "f_prime = diff(f, x)\n",
    "\n",
    "# Вычисляем значение производной в точке x = 0\n",
    "derivative_value = f_prime.subs(x, 0)\n",
    "\n",
    "# Выводим результат\n",
    "print('Значение производной функции в точке x = 0:', float(derivative_value))"
   ]
  },
  {
   "cell_type": "code",
   "execution_count": 16,
   "metadata": {},
   "outputs": [
    {
     "name": "stdout",
     "output_type": "stream",
     "text": [
      "Значение градиента функции по переменной x1 в точке (0, 0): 0.25\n",
      "Значение градиента функции по переменной x2 в точке (0, 0): -0.25\n"
     ]
    }
   ],
   "source": [
    "# Значение градиента функции двух переменных\n",
    "# Импорт библиотек\n",
    "from sympy import symbols, diff, exp  # функции и классы для вычисления уравнений\n",
    "\n",
    "# Определяем символы x1 и x2\n",
    "x1, x2 = symbols('x1 x2')\n",
    "\n",
    "# Определяем функцию f(x1, x2)\n",
    "f = 1 / (1 + exp(-x1)) + 1 / (1 + exp(x2))\n",
    "\n",
    "# Инициализируем точку\n",
    "point = (0, 0)\n",
    "\n",
    "# Вычисляем производные функции f по переменным x1 и x2\n",
    "f_prime_x1 = diff(f, x1)\n",
    "f_prime_x2 = diff(f, x2)\n",
    "\n",
    "# Вычисляем значения производных в точке (0, 0)\n",
    "derivative_value_x1 = f_prime_x1.subs({x1: point[0], x2: point[1]})\n",
    "derivative_value_x2 = f_prime_x2.subs({x1: point[0], x2: point[1]})\n",
    "\n",
    "# Выводим результат\n",
    "print(f'Значение градиента функции по переменной x1 в точке {point}: {float(derivative_value_x1)}')\n",
    "print(f'Значение градиента функции по переменной x2 в точке {point}: {float(derivative_value_x2)}')"
   ]
  },
  {
   "cell_type": "code",
   "execution_count": 13,
   "metadata": {},
   "outputs": [
    {
     "name": "stdout",
     "output_type": "stream",
     "text": [
      "Значение градиента функции в точке (0, 0): 0.25 -0.25\n"
     ]
    }
   ],
   "source": [
    "# Значение градиента функции двух переменных\n",
    "# Импорт библиотек\n",
    "from sympy import symbols, diff, exp  # функции и классы для вычисления уравнений\n",
    "\n",
    "# Определяем символы x1 и x2\n",
    "x1, x2 = symbols('x1 x2')\n",
    "\n",
    "# Определяем функцию f(x1, x2)\n",
    "f = 1 / (1 + exp(-x1)) + 1 / (1 + exp(x2))\n",
    "\n",
    "# Инициализируем точку\n",
    "point = (0, 0)\n",
    "\n",
    "# Вычисляем значения производных в точке\n",
    "derivative_values = [diff(f, x).subs({x1: point[0], x2: point[1]}) for i, x in enumerate([x1, x2])]\n",
    "\n",
    "# Выводим результат\n",
    "print(f'Значение градиента функции в точке {point}: {float(derivative_values[0])} {float(derivative_values[1])}')\n"
   ]
  }
 ],
 "metadata": {
  "kernelspec": {
   "display_name": "Python 3",
   "language": "python",
   "name": "python3"
  },
  "language_info": {
   "codemirror_mode": {
    "name": "ipython",
    "version": 3
   },
   "file_extension": ".py",
   "mimetype": "text/x-python",
   "name": "python",
   "nbconvert_exporter": "python",
   "pygments_lexer": "ipython3",
   "version": "3.11.2"
  }
 },
 "nbformat": 4,
 "nbformat_minor": 2
}
