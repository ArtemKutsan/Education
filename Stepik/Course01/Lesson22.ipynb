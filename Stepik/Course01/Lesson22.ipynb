{
 "cells": [
  {
   "cell_type": "markdown",
   "metadata": {},
   "source": [
    "<link rel=\"stylesheet\" type=\"text/css\" href=\"../styles/styles.css\">\n",
    "\n",
    "### 2.2 Разработка системы классов"
   ]
  },
  {
   "cell_type": "code",
   "execution_count": 3,
   "metadata": {},
   "outputs": [],
   "source": [
    "# Класс \"Книга\"\n",
    "class Book:\n",
    "    def __init__(self, title, author, total_copies):\n",
    "        self.title = title\n",
    "        self.author = author\n",
    "        self.total_copies = total_copies\n",
    "        self.available_copies = total_copies\n",
    "\n",
    "    def borrow_book(self):\n",
    "        if self.available_copies > 0:\n",
    "            self.available_copies -= 1\n",
    "        else:\n",
    "            print(f\"Sorry, '{self.title}' is currently unavailable.\")\n",
    "   \n",
    "    def return_book(self):\n",
    "        if self.available_copies < self.total_copies:\n",
    "            self.available_copies += 1\n",
    "        else:\n",
    "            print(f\"Invalid operation. All copies of '{self.title}' have already been returned.\") "
   ]
  },
  {
   "cell_type": "code",
   "execution_count": 4,
   "metadata": {},
   "outputs": [],
   "source": [
    "# Класс \"Автор\"\n",
    "class Author:\n",
    "    def __init__(self, name, birth_year):\n",
    "        self.name = name\n",
    "        self.birth_year = birth_year\n",
    "\n",
    "    def display_info(self):\n",
    "        print(f\"Author: {self.name}, Born: {self.birth_year}\")"
   ]
  },
  {
   "cell_type": "code",
   "execution_count": 5,
   "metadata": {},
   "outputs": [],
   "source": [
    "# Класс \"Библиотекарь\"\n",
    "class Librarian:\n",
    "    def __init__(self, name, position):\n",
    "        self.name = name\n",
    "        self.position = position\n",
    "\n",
    "    def issue_book(self, book, member):\n",
    "        if book.available_copies > 0:\n",
    "            book.borrow_book()\n",
    "            print(f\"Book '{book.title}' issued to {member}.\")\n",
    "        else:\n",
    "            print(f\"Sorry, '{book.title}' is currently unavailable for issuing.\")\n",
    "\n",
    "    def collect_book(self, book, member):\n",
    "        if book.available_copies < book.total_copies:\n",
    "            book.return_book()\n",
    "            print(f\"Book '{book.title}' collected from {member}.\")\n",
    "        else:\n",
    "            print(f\"Invalid operation. All copies of '{book.title}' have already been returned.\")"
   ]
  },
  {
   "cell_type": "code",
   "execution_count": 6,
   "metadata": {},
   "outputs": [
    {
     "name": "stdout",
     "output_type": "stream",
     "text": [
      "Book 'The Shining' issued to Alice.\n",
      "Book 'Harry Potter and the Philosopher's Stone' issued to Bob.\n",
      "Book 'The Shining' issued to Charlie.\n",
      "Book 'The Shining' collected from Alice.\n",
      "Book 'The Shining' collected from Charlie.\n"
     ]
    }
   ],
   "source": [
    "# Пример использования системы классов \"Книга\", \"Автор\" и \"Библиотекарь\"\n",
    "# Создаем объекты авторов\n",
    "author1 = Author(\"Stephen King\", 1947)\n",
    "author2 = Author(\"J.K. Rowling\", 1965)\n",
    "\n",
    "# Создаем объекты книг\n",
    "book1 = Book(\"The Shining\", author1, 5)\n",
    "book2 = Book(\"Harry Potter and the Philosopher's Stone\", author2, 3)\n",
    "\n",
    "# Создаем объект библиотекаря\n",
    "librarian = Librarian(\"John\", \"Head Librarian\")\n",
    "\n",
    "# Пример использования методов\n",
    "librarian.issue_book(book1, \"Alice\")  # Выдаем книгу \"The Shining\" Алисе\n",
    "librarian.issue_book(book2, \"Bob\")  # Выдаем книгу \"Harry Potter and the Philosopher's Stone\" Бобу\n",
    "librarian.issue_book(book1, \"Charlie\")  # Пытаемся выдать еще одну копию \"The Shining\"\n",
    "librarian.collect_book(book1, \"Alice\")  # Возвращаем книгу \"The Shining\"\n",
    "librarian.collect_book(book1, \"Charlie\")  # Пытаемся вернуть уже возвращенную книгу"
   ]
  }
 ],
 "metadata": {
  "kernelspec": {
   "display_name": "Python 3",
   "language": "python",
   "name": "python3"
  },
  "language_info": {
   "codemirror_mode": {
    "name": "ipython",
    "version": 3
   },
   "file_extension": ".py",
   "mimetype": "text/x-python",
   "name": "python",
   "nbconvert_exporter": "python",
   "pygments_lexer": "ipython3",
   "version": "3.11.2"
  }
 },
 "nbformat": 4,
 "nbformat_minor": 2
}
