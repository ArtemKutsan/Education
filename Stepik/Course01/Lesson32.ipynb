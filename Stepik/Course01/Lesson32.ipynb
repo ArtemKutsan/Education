{
 "cells": [
  {
   "cell_type": "markdown",
   "metadata": {},
   "source": [
    "<link rel=\"stylesheet\" type=\"text/css\" href=\"../styles/styles.css\">\n",
    "\n",
    "### 3.2 Классы исключений и их обработка"
   ]
  },
  {
   "cell_type": "code",
   "execution_count": 4,
   "metadata": {},
   "outputs": [],
   "source": [
    "# Класс исключения для ошибок конвертации температуры\n",
    "class TemperatureConversionError(Exception):\n",
    "    def __init__(self, message):\n",
    "        self.message = message\n",
    "        super().__init__(self.message)"
   ]
  },
  {
   "cell_type": "code",
   "execution_count": 7,
   "metadata": {},
   "outputs": [],
   "source": [
    "# Функция конвертации градусов Цельсия в градусы Фаренгейта\n",
    "def celsius_to_fahrenheit(celsius):\n",
    "    try:\n",
    "        celsius = float(celsius)\n",
    "    except:\n",
    "        raise TemperatureConversionError('Введено некорректное значение температуры.')\n",
    "\n",
    "    return celsius * 9/5 + 32  # формула перевода Фаренгейт в Цельсии"
   ]
  },
  {
   "cell_type": "code",
   "execution_count": 11,
   "metadata": {},
   "outputs": [
    {
     "name": "stdout",
     "output_type": "stream",
     "text": [
      "Температура в градусах Фаренгейта: 77.0\n",
      "Температура в градусах Фаренгейта: 86.9\n",
      "Ошибка: Введено некорректное значение температуры.\n"
     ]
    }
   ],
   "source": [
    "# Пример использования класса исключений\n",
    "try:\n",
    "    # Попробуем конвертировать температуру из Цельсия в Фаренгейт\n",
    "    print(f'Температура в градусах Фаренгейта:', celsius_to_fahrenheit(25))\n",
    "    print(f'Температура в градусах Фаренгейта:', celsius_to_fahrenheit('30.5'))\n",
    "    print(f'Температура в градусах Фаренгейта:', celsius_to_fahrenheit('abc'))\n",
    "except TemperatureConversionError as e:\n",
    "    print(f'Ошибка: {e}')"
   ]
  }
 ],
 "metadata": {
  "kernelspec": {
   "display_name": "Python 3",
   "language": "python",
   "name": "python3"
  },
  "language_info": {
   "codemirror_mode": {
    "name": "ipython",
    "version": 3
   },
   "file_extension": ".py",
   "mimetype": "text/x-python",
   "name": "python",
   "nbconvert_exporter": "python",
   "pygments_lexer": "ipython3",
   "version": "3.11.2"
  }
 },
 "nbformat": 4,
 "nbformat_minor": 2
}
