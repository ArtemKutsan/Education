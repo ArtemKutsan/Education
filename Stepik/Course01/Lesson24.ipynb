{
 "cells": [
  {
   "cell_type": "markdown",
   "metadata": {},
   "source": [
    "<link rel=\"stylesheet\" type=\"text/css\" href=\"../styles/styles.css\">\n",
    "\n",
    "### 2.4 Абстрактные классы"
   ]
  },
  {
   "cell_type": "markdown",
   "metadata": {},
   "source": [
    "<link rel=\"stylesheet\" type=\"text/css\" href=\"../styles/styles.css\">\n",
    "\n",
    "##### Абстрактный класс \"Животное\" с абстрактным методом и классы \"Собака\" и \"Кошка\""
   ]
  },
  {
   "cell_type": "code",
   "execution_count": 75,
   "metadata": {},
   "outputs": [],
   "source": [
    "# Импорт классов и методов для работы с абстрактными классами\n",
    "from abc import ABC, abstractmethod"
   ]
  },
  {
   "cell_type": "code",
   "execution_count": 76,
   "metadata": {},
   "outputs": [],
   "source": [
    "# Абстрактный класс \"Животное\"\n",
    "class Animal(ABC):\n",
    "    # Абстрактный метод (метод без реализации)\n",
    "    @abstractmethod\n",
    "    def make_sound(self):\n",
    "        pass"
   ]
  },
  {
   "cell_type": "code",
   "execution_count": 77,
   "metadata": {},
   "outputs": [],
   "source": [
    "# Класс \"Собака\" наследуется от абстрактного класса \"Животное\"\n",
    "class Dog(Animal):\n",
    "    # Реализация абстрактного метода класса родителя (звук издаваемый собакой)\n",
    "    def make_sound(self):\n",
    "        print('Woof!')"
   ]
  },
  {
   "cell_type": "code",
   "execution_count": 78,
   "metadata": {},
   "outputs": [],
   "source": [
    "# Класс \"Кошка\" наследуется от абстрактного класса \"Животное\"\n",
    "class Cat(Animal):\n",
    "    # Реализация абстрактного метода класса родителя (звук издаваемый кошкой)\n",
    "    def make_sound(self):\n",
    "        print('Meow!')"
   ]
  },
  {
   "cell_type": "code",
   "execution_count": 79,
   "metadata": {},
   "outputs": [
    {
     "name": "stdout",
     "output_type": "stream",
     "text": [
      "Woof!\n",
      "Meow!\n"
     ]
    }
   ],
   "source": [
    "# Пример использования абстрактных классов и методов\n",
    "# Нельзя создать экземпляр абстрактного класса\n",
    "# animal = Animal()  # Ошибка: TypeError\n",
    "\n",
    "dog = Dog()\n",
    "dog.make_sound()  # Вывод: Woof!\n",
    "\n",
    "cat = Cat()\n",
    "cat.make_sound()  # Вывод: Meow!"
   ]
  },
  {
   "cell_type": "markdown",
   "metadata": {},
   "source": [
    "<link rel=\"stylesheet\" type=\"text/css\" href=\"../styles/styles.css\">\n",
    "\n",
    "##### Абстрактный класс \"Геометрическая фигура\" с абстрактным методом и классы \"Окружность\" и \"Прямоугольник\""
   ]
  },
  {
   "cell_type": "code",
   "execution_count": 80,
   "metadata": {},
   "outputs": [],
   "source": [
    "# Импорт библиотек\n",
    "from abc import ABC, abstractmethod  # импорт классов и методов для работы с абстрактными классами\n",
    "from math import pi  # импорт числа pi"
   ]
  },
  {
   "cell_type": "code",
   "execution_count": 81,
   "metadata": {},
   "outputs": [],
   "source": [
    "# Абстрактный класс \"Геометрическая фигура\"\n",
    "class Shape(ABC):\n",
    "    # Абстрактный метод (метод без реализации)\n",
    "    @abstractmethod\n",
    "    def area(self):\n",
    "        pass"
   ]
  },
  {
   "cell_type": "code",
   "execution_count": 82,
   "metadata": {},
   "outputs": [],
   "source": [
    "# Класс \"Окружность\" наследуется от абстрактного класса \"Геометрическая фигура\"\n",
    "class Circle(Shape):\n",
    "    def __init__(self, radius):\n",
    "        self.radius = radius\n",
    "    \n",
    "    def area(self):\n",
    "        return pi * self.radius**2"
   ]
  },
  {
   "cell_type": "code",
   "execution_count": 83,
   "metadata": {},
   "outputs": [],
   "source": [
    "# Класс \"Прямоугольник\" наследуется от абстрактного класса \"Геометрическая фигура\"\n",
    "class Rectangle(Shape):\n",
    "    def __init__(self, width, height):\n",
    "        self.width = width\n",
    "        self.height = height\n",
    "    \n",
    "    def area(self):\n",
    "        return self.width * self.height"
   ]
  },
  {
   "cell_type": "code",
   "execution_count": 84,
   "metadata": {},
   "outputs": [
    {
     "name": "stdout",
     "output_type": "stream",
     "text": [
      "Площадь окружности: 78.54\n",
      "Площадь прямоугольника: 24\n"
     ]
    }
   ],
   "source": [
    "# Пример использования абстрактного класса в классах-наследниках\n",
    "if __name__ == '__main__':\n",
    "    # Создаем объекты\n",
    "    circle = Circle(5)\n",
    "    rectangle = Rectangle(4, 6)\n",
    "    \n",
    "    # Вычисляем площади фигур\n",
    "    circle_area = circle.area()\n",
    "    rectangle_area = rectangle.area()\n",
    "    \n",
    "    # Вывод результатов\n",
    "    print('Площадь окружности:', round(circle_area, 2))\n",
    "    print('Площадь прямоугольника:', round(rectangle_area, 2))"
   ]
  },
  {
   "cell_type": "markdown",
   "metadata": {},
   "source": [
    "<link rel=\"stylesheet\" type=\"text/css\" href=\"../styles/styles.css\">\n",
    "\n",
    "##### Абстрактный класс \"Геометрические фигуры\" (с цветом) с абстрактным методом и классы \"Окружность\", \"Прямоугольник\" и \"Треугольник\""
   ]
  },
  {
   "cell_type": "code",
   "execution_count": 85,
   "metadata": {},
   "outputs": [],
   "source": [
    "# Импорт библиотек\n",
    "from abc import ABC, abstractmethod  # импорт классов и методов для работы с абстрактными классами\n",
    "from math import pi  # импорт числа pi"
   ]
  },
  {
   "cell_type": "code",
   "execution_count": 86,
   "metadata": {},
   "outputs": [],
   "source": [
    "# Абстрактный класс \"Геометрическая фигура\" (с цветом)\n",
    "class Shape(ABC):\n",
    "    def __init__(self, color=None):\n",
    "        self.color = color\n",
    "    \n",
    "    # Абстрактный метод (метод без реализации)\n",
    "    @abstractmethod\n",
    "    def area(self):\n",
    "        pass"
   ]
  },
  {
   "cell_type": "code",
   "execution_count": 87,
   "metadata": {},
   "outputs": [],
   "source": [
    "# Класс \"Окружность\" наследуется от абстрактного класса \"Геометрическая фигура\"\n",
    "class Circle(Shape):\n",
    "    def __init__(self, radius, color=None):\n",
    "        super().__init__()\n",
    "        self.radius = radius\n",
    "    \n",
    "    def area(self):\n",
    "        return pi * self.radius**2"
   ]
  },
  {
   "cell_type": "code",
   "execution_count": 88,
   "metadata": {},
   "outputs": [],
   "source": [
    "# Класс \"Прямоугольник\" наследуется от абстрактного класса \"Геометрическая фигура\"\n",
    "class Rectangle(Shape):\n",
    "    def __init__(self, width, height, color=None):\n",
    "        super().__init__(color)\n",
    "        self.width = width\n",
    "        self.height = height\n",
    "    \n",
    "    def area(self):\n",
    "        return self.width * self.height"
   ]
  },
  {
   "cell_type": "code",
   "execution_count": 89,
   "metadata": {},
   "outputs": [],
   "source": [
    "# Класс \"Треугольник\" наследуется от абстрактного класса \"Геометрическая фигура\"\n",
    "class Triangle(Shape):\n",
    "    # Треугольник создается исползуя длину основания и высоту для упрощения задачи\n",
    "    def __init__(self, base, height, color=None):\n",
    "        super().__init__(color)\n",
    "        self.base = base\n",
    "        self.height = height\n",
    "    \n",
    "    def area(self):\n",
    "        return 0.5 * self.base * self.height"
   ]
  },
  {
   "cell_type": "code",
   "execution_count": 90,
   "metadata": {},
   "outputs": [
    {
     "name": "stdout",
     "output_type": "stream",
     "text": [
      "Площадь окружности (цвет None): 78.54\n",
      "Площадь прямоугольника (цвет красный): 24\n",
      "Площадь треугольника (цвет синий): 6.0\n"
     ]
    }
   ],
   "source": [
    "# Пример использования абстрактного класса в классах-наследниках\n",
    "if __name__ == '__main__':\n",
    "    # Создание объектов с разными цветами\n",
    "    circle = Circle(5)\n",
    "    rectangle = Rectangle(4, 6, 'красный')\n",
    "    triangle = Triangle(3, 4, 'синий')\n",
    "    \n",
    "    # Вычисление площадей и вывод результатов\n",
    "    print(f'Площадь окружности (цвет {circle.color}): {round(circle.area(), 2)}')\n",
    "    print(f'Площадь прямоугольника (цвет {rectangle.color}): {round(rectangle.area(), 2)}')\n",
    "    print(f'Площадь треугольника (цвет {triangle.color}): {round(triangle.area(), 2)}')"
   ]
  },
  {
   "cell_type": "markdown",
   "metadata": {},
   "source": [
    "<link rel=\"stylesheet\" type=\"text/css\" href=\"../styles/styles.css\">\n",
    "\n",
    "##### Абстрактный класс \"Банковский счет\" с абстрактными методами и классы наследники \"Сберегательный счет\" и \"Расчетный счет\""
   ]
  },
  {
   "cell_type": "code",
   "execution_count": 91,
   "metadata": {},
   "outputs": [],
   "source": [
    "# Импорт классов и методов для работы с абстрактными классами\n",
    "from abc import ABC, abstractmethod"
   ]
  },
  {
   "cell_type": "code",
   "execution_count": 92,
   "metadata": {},
   "outputs": [],
   "source": [
    "# Абстрактный класс \"Банковский счет\"\n",
    "class BankAccount(ABC):\n",
    "    def __init__(self, balance=0):\n",
    "        self.balance = balance\n",
    "    \n",
    "    # Абстрактный метод для внесения средств\n",
    "    @abstractmethod\n",
    "    def deposit(self, amount):\n",
    "        pass\n",
    "    \n",
    "    # Абстрактный метод для снятия средств\n",
    "    @abstractmethod\n",
    "    def withdraw(self, amount):\n",
    "        pass\n",
    "\n",
    "    # Метод для проверки баланса\n",
    "    def check_balance(self):\n",
    "        print(f'Текущий баланс: {self.balance}')"
   ]
  },
  {
   "cell_type": "code",
   "execution_count": 93,
   "metadata": {},
   "outputs": [],
   "source": [
    "# Класс \"Сберегательный счет\" (наследник абстрактонго класса \"Банковский счет\")\n",
    "class SavingsAccount(BankAccount):\n",
    "    # Метод для внесения средств на сберегательный счет\n",
    "    def deposit(self, amount):\n",
    "        self.balance += amount\n",
    "        print(f'Сумма {amount} успешно внесена на сберегательный счет')\n",
    "    \n",
    "    # Метод для снятия средств со сберегательного счета\n",
    "    def withdraw(self, amount):\n",
    "        if self.balance >= amount:\n",
    "            self.balance -= amount\n",
    "            print(f'Сумма {amount} успешно снята со сберегательного счета')\n",
    "        else:\n",
    "            print('Недостаточно средств на сберегательном счете')"
   ]
  },
  {
   "cell_type": "code",
   "execution_count": 94,
   "metadata": {},
   "outputs": [],
   "source": [
    "# Класс \"Расчетный счет\" (наследник абстрактонго класса \"Банковский счет\")\n",
    "class CheckingAccount(BankAccount):\n",
    "    # Метод для внесения средств на расчетный счет\n",
    "    def deposit(self, amount):\n",
    "        self.balance += amount\n",
    "        print(f'Сумма {amount} успешно внесена на расчетный счет')\n",
    "    \n",
    "    # Метод для снятия средств с расчетного счета\n",
    "    def withdraw(self, amount):\n",
    "        if self.balance >= amount:\n",
    "            self.balance -= amount\n",
    "            print(f'Сумма {amount} успешно снята с расчетного счета')\n",
    "        else:\n",
    "            print('Недостаточно средств на расчетном счете')"
   ]
  },
  {
   "cell_type": "code",
   "execution_count": 97,
   "metadata": {},
   "outputs": [
    {
     "name": "stdout",
     "output_type": "stream",
     "text": [
      "Сумма 1100 успешно внесена на сберегательный счет\n",
      "Сумма 400 успешно снята со сберегательного счета\n",
      "Текущий баланс: 700\n",
      "Сумма 2500 успешно внесена на расчетный счет\n",
      "Сумма 1200 успешно снята с расчетного счета\n",
      "Текущий баланс: 1300\n",
      "Сумма 2500 успешно внесена на сберегательный счет\n",
      "Текущий баланс: 3000\n",
      "Текущий баланс: 0\n"
     ]
    }
   ],
   "source": [
    "# Пример использования абстрактного класса в классах-наследниках\n",
    "if __name__ == '__main__':\n",
    "    # Создание экземпляров счетов\n",
    "    savings_account1 = SavingsAccount()\n",
    "    checking_account1 = CheckingAccount()\n",
    "    savings_account2 = SavingsAccount(500)\n",
    "    checking_account2 = CheckingAccount()\n",
    "    \n",
    "    # Внесение и снятие средств со сберегательного счета 1\n",
    "    savings_account1.deposit(1100)\n",
    "    savings_account1.withdraw(400)\n",
    "    savings_account1.check_balance()  # проверяем баланс сберегательного счета 1\n",
    "    \n",
    "    # Внесение и снятие средств с расчетного счета 1\n",
    "    checking_account1.deposit(2500)\n",
    "    checking_account1.withdraw(1200)\n",
    "    checking_account1.check_balance()  # проверяем баланс расчетного счета 1\n",
    "\n",
    "    # Внесение и снятие средств со сберегательного счета 2\n",
    "    savings_account2.deposit(2500)\n",
    "    savings_account2.check_balance()  # проверяем баланс сберегательного счета 2\n",
    "\n",
    "    checking_account2.check_balance()  # проверяем баланс расчетного счета 2"
   ]
  }
 ],
 "metadata": {
  "kernelspec": {
   "display_name": "Python 3",
   "language": "python",
   "name": "python3"
  },
  "language_info": {
   "codemirror_mode": {
    "name": "ipython",
    "version": 3
   },
   "file_extension": ".py",
   "mimetype": "text/x-python",
   "name": "python",
   "nbconvert_exporter": "python",
   "pygments_lexer": "ipython3",
   "version": "3.11.2"
  }
 },
 "nbformat": 4,
 "nbformat_minor": 2
}
