{
 "cells": [
  {
   "cell_type": "markdown",
   "metadata": {},
   "source": [
    "<link rel=\"stylesheet\" type=\"text/css\" href=\"../styles/styles.css\">\n",
    "\n",
    "### 2.3 Композиция классов"
   ]
  },
  {
   "cell_type": "markdown",
   "metadata": {},
   "source": [
    "<link rel=\"stylesheet\" type=\"text/css\" href=\"../styles/styles.css\">\n",
    "\n",
    "##### Композиции классов \"Автор\" и \"Книга\""
   ]
  },
  {
   "cell_type": "code",
   "execution_count": 18,
   "metadata": {},
   "outputs": [],
   "source": [
    "# Класс \"Автор\"\n",
    "class Author:\n",
    "    def __init__(self, name):\n",
    "        self.name = name\n",
    "\n",
    "    def __str__(self):\n",
    "        return f'Author: {self.name}'"
   ]
  },
  {
   "cell_type": "code",
   "execution_count": 19,
   "metadata": {},
   "outputs": [],
   "source": [
    "# Класс \"Книга\"\n",
    "class Book:\n",
    "    def __init__(self, title, author):\n",
    "        self.title = title\n",
    "        self.author = Author(author)  # пример композиции классов\n",
    "\n",
    "    def __str__(self):\n",
    "        return f'Book: {self.title}, {self.author}'"
   ]
  },
  {
   "cell_type": "code",
   "execution_count": 20,
   "metadata": {},
   "outputs": [
    {
     "name": "stdout",
     "output_type": "stream",
     "text": [
      "Book: The Great Gatsby, Author: F. Scott Fitzgerald\n",
      "Book: To Kill a Mockingbird, Author: Harper Lee\n"
     ]
    }
   ],
   "source": [
    "# Пример использования композиции классов \"Автор\" и \"Книга\"\n",
    "book1 = Book('The Great Gatsby', 'F. Scott Fitzgerald')\n",
    "book2 = Book('To Kill a Mockingbird', 'Harper Lee')\n",
    "\n",
    "print(book1, book2, sep='\\n')"
   ]
  },
  {
   "cell_type": "markdown",
   "metadata": {},
   "source": [
    "<link rel=\"stylesheet\" type=\"text/css\" href=\"../styles/styles.css\">\n",
    "\n",
    "##### Композиции классов \"Игрок\" и \"Команда\""
   ]
  },
  {
   "cell_type": "code",
   "execution_count": 10,
   "metadata": {},
   "outputs": [],
   "source": [
    "# Класс \"Игрок\"\n",
    "class Player:\n",
    "    def __init__(self, name, age, position):\n",
    "        self.name = name\n",
    "        self.age = age\n",
    "        self.position = position\n",
    "\n",
    "    def __str__(self):\n",
    "        return f'Игрок: {self.name}, возраст: {self.age}, позиция: {self.position}'"
   ]
  },
  {
   "cell_type": "code",
   "execution_count": 27,
   "metadata": {},
   "outputs": [],
   "source": [
    "# Класс \"Команда\"\n",
    "class Team:\n",
    "    def __init__(self, title, coach=None):\n",
    "        self.title = title\n",
    "        self.coach = coach\n",
    "        self.players = []\n",
    "\n",
    "    def add_player(self, player):\n",
    "        self.players.append(player)\n",
    "\n",
    "    def remove_player(self, player):\n",
    "        self.players.remove(player)\n",
    "\n",
    "    def list_players(self):\n",
    "        print(f'Команда \"{self.title}\":\\n\\t' + '\\n\\t'.join(str(player) for player in self.players))"
   ]
  },
  {
   "cell_type": "code",
   "execution_count": 28,
   "metadata": {},
   "outputs": [
    {
     "name": "stdout",
     "output_type": "stream",
     "text": [
      "Команда \"Красные\":\n",
      "\tИгрок: Иванов, возраст: 25, позиция: Нападающий\n",
      "\tИгрок: Петров, возраст: 30, позиция: Полузащитник\n",
      "Команда \"Синие\":\n",
      "\tИгрок: Сидоров, возраст: 28, позиция: Защитник\n",
      "Команда \"Красные\":\n",
      "\tИгрок: Иванов, возраст: 25, позиция: Нападающий\n"
     ]
    }
   ],
   "source": [
    "# Пример использования композиции классов \"Игрок\" и \"Команда\"\n",
    "if __name__ == '__main__':\n",
    "    # Создаем игроков\n",
    "    player1 = Player('Иванов', 25, 'Нападающий')\n",
    "    player2 = Player('Петров', 30, 'Полузащитник')\n",
    "    player3 = Player('Сидоров', 28, 'Защитник')\n",
    "\n",
    "    # Создаем команды\n",
    "    team1 = Team('Красные')\n",
    "    team2 = Team('Синие')\n",
    "\n",
    "    # Добавляем игроков в команды\n",
    "    team1.add_player(player1)\n",
    "    team1.add_player(player2)\n",
    "    team2.add_player(player3)\n",
    "\n",
    "    # Выводим список игроков в командах\n",
    "    team1.list_players()\n",
    "    team2.list_players()\n",
    "\n",
    "    # Удаляем игрока из команды\n",
    "    team1.remove_player(player2)\n",
    "\n",
    "    # Выводим обновленный список игроков\n",
    "    team1.list_players()"
   ]
  },
  {
   "cell_type": "markdown",
   "metadata": {},
   "source": [
    "<link rel=\"stylesheet\" type=\"text/css\" href=\"../styles/styles.css\">\n",
    "\n",
    "##### Композиция классов модели машииного обучения"
   ]
  },
  {
   "cell_type": "code",
   "execution_count": 18,
   "metadata": {},
   "outputs": [],
   "source": [
    "# Импорт библиотеки для работы с массивами\n",
    "import numpy as np"
   ]
  },
  {
   "cell_type": "code",
   "execution_count": 25,
   "metadata": {},
   "outputs": [],
   "source": [
    "# Класс \"Линейная регрессия\"\n",
    "class LinearRegression:\n",
    "    # Инициализация модели\n",
    "    def __init__(self, method='simple'):\n",
    "        self.method = method\n",
    "        self.a = None\n",
    "\n",
    "    # Метод для обучения модели\n",
    "    def fit(self, X, y):\n",
    "        if self.method == 'simple':\n",
    "            self.a = np.sum(y / X) / len(X)\n",
    "        elif self.method == 'MNK':\n",
    "            self.a = np.sum(y * X) / np.sum(X**2)\n",
    "        else:\n",
    "            raise ValueError(\"Неподдерживаемый метод:\", self.method)\n",
    "\n",
    "    # Метод для предсказания\n",
    "    def predict(self, X):\n",
    "        if self.a is None:\n",
    "            print('Модель не обучена')\n",
    "        else:\n",
    "            return self.a * X"
   ]
  },
  {
   "cell_type": "code",
   "execution_count": 26,
   "metadata": {},
   "outputs": [],
   "source": [
    "# Класс \"Оценка модели\"\n",
    "class ModelEvaluation:\n",
    "    # Статический метод для оценки среднеквадратичной ошибки модели\n",
    "    @staticmethod\n",
    "    def mean_squared_error(model, y, X):\n",
    "        predictions = model.predict(X)\n",
    "        return np.mean((y - predictions)**2)"
   ]
  },
  {
   "cell_type": "code",
   "execution_count": 27,
   "metadata": {},
   "outputs": [
    {
     "name": "stdout",
     "output_type": "stream",
     "text": [
      "1.0334295170396333\n",
      "1.0073689900082463\n"
     ]
    }
   ],
   "source": [
    "# Пример использования композиции классов модели машииного обучения\n",
    "# Генерируем случайные данные для примера\n",
    "X = np.random.rand(100, 1)\n",
    "a = 1  # коэффициент для создания тестовых данных\n",
    "noise = np.random.rand(100, 1) - 0.5\n",
    "r = 0.1  # амплитуда шума\n",
    "y = np.dot(X, a) + np.dot(noise, r)\n",
    "\n",
    "# Создаем и обучаем модель линейной регрессии\n",
    "model_simple = LinearRegression('simple')\n",
    "model_simple.fit(X, y)\n",
    "print(model_simple.a)\n",
    "model_mnk = LinearRegression('MNK')\n",
    "model_mnk.fit(X, y)\n",
    "print(model_mnk.a)"
   ]
  },
  {
   "cell_type": "code",
   "execution_count": 28,
   "metadata": {},
   "outputs": [],
   "source": [
    "# Импорт библиотеки для построения графиков\n",
    "import matplotlib.pyplot as plt"
   ]
  },
  {
   "cell_type": "code",
   "execution_count": 29,
   "metadata": {},
   "outputs": [
    {
     "name": "stdout",
     "output_type": "stream",
     "text": [
      "0.0010442382259883403\n",
      "0.0008422434017391026\n"
     ]
    },
    {
     "data": {
      "image/png": "[encoded data removed]",
      "text/plain": [
       "<Figure size 1000x600 with 1 Axes>"
      ]
     },
     "metadata": {},
     "output_type": "display_data"
    }
   ],
   "source": [
    "# График\n",
    "# Создаем данные для линии 1\n",
    "x1 = np.linspace(0, 1, 100)  # Генерируем 100 точек от 0 до 10\n",
    "y1 = model_simple.predict(x1)\n",
    "\n",
    "# Создаем данные для линии 2\n",
    "x2 = np.linspace(0, 1, 100)\n",
    "y2 = model_mnk.predict(x2)\n",
    "\n",
    "# Создаем данные для набора точек\n",
    "x_points = X\n",
    "y_points = y\n",
    "\n",
    "# Строим график\n",
    "plt.figure(figsize=(10, 6))  # устанавливаем размер фигуры\n",
    "\n",
    "# Строим линию 1 (синус)\n",
    "plt.plot(x1, y1, label='simple', color='blue', linestyle='-', linewidth=2)\n",
    "\n",
    "# Строим линию 2 (косинус)\n",
    "plt.plot(x2, y2, label='mnk', color='red', linestyle='--', linewidth=2)\n",
    "\n",
    "# Добавляем набор точек\n",
    "plt.scatter(x_points, y_points, color='green', marker='o', label='Точки')\n",
    "\n",
    "print(ModelEvaluation.mean_squared_error(model_simple, y, X))\n",
    "print(ModelEvaluation.mean_squared_error(model_mnk, y, X))"
   ]
  }
 ],
 "metadata": {
  "kernelspec": {
   "display_name": "Python 3",
   "language": "python",
   "name": "python3"
  },
  "language_info": {
   "codemirror_mode": {
    "name": "ipython",
    "version": 3
   },
   "file_extension": ".py",
   "mimetype": "text/x-python",
   "name": "python",
   "nbconvert_exporter": "python",
   "pygments_lexer": "ipython3",
   "version": "3.11.2"
  }
 },
 "nbformat": 4,
 "nbformat_minor": 2
}
