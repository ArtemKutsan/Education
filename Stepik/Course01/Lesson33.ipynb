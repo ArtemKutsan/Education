{
 "cells": [
  {
   "cell_type": "markdown",
   "metadata": {},
   "source": [
    "<link rel=\"stylesheet\" type=\"text/css\" href=\"../styles/styles.css\">\n",
    "\n",
    "### 3.3 Отладка и тестирование программ"
   ]
  },
  {
   "cell_type": "markdown",
   "metadata": {},
   "source": [
    "<link rel=\"stylesheet\" type=\"text/css\" href=\"../styles/styles.css\">\n",
    "\n",
    "##### Использование assert"
   ]
  },
  {
   "cell_type": "code",
   "execution_count": 5,
   "metadata": {},
   "outputs": [],
   "source": [
    "# Функция вычисления среднего арифметического списка\n",
    "def calculate_average(numbers):\n",
    "    assert numbers, 'Список не может быть пустым'\n",
    "    return sum(numbers) / len(numbers)"
   ]
  },
  {
   "cell_type": "code",
   "execution_count": 6,
   "metadata": {},
   "outputs": [
    {
     "name": "stdout",
     "output_type": "stream",
     "text": [
      "Среднее значение: 3.0\n",
      "Ошибка: Список не может быть пустым\n"
     ]
    }
   ],
   "source": [
    "# Пример использования assert\n",
    "try:\n",
    "    numbers = [1, 2, 3, 4, 5]\n",
    "    average = calculate_average(numbers)\n",
    "    print('Среднее значение:', average)\n",
    "except AssertionError as e:\n",
    "    print('Ошибка:', e)\n",
    "\n",
    "try:\n",
    "    empty_list = []\n",
    "    average = calculate_average(empty_list)\n",
    "    print('Среднее значение:', average)\n",
    "except AssertionError as e:\n",
    "    print('Ошибка:', e)"
   ]
  },
  {
   "cell_type": "markdown",
   "metadata": {},
   "source": [
    "<link rel=\"stylesheet\" type=\"text/css\" href=\"../styles/styles.css\">\n",
    "\n",
    "##### Пример тестирования с помощью unittest"
   ]
  },
  {
   "cell_type": "code",
   "execution_count": 7,
   "metadata": {},
   "outputs": [],
   "source": [
    "# Файл rectangle.py\n",
    "\n",
    "# Класс \"Прямоугольник\"\n",
    "class Rectangle:\n",
    "    def __init__(self, length, width):\n",
    "        self.length = length\n",
    "        self.width = width\n",
    "    \n",
    "    def area(self):\n",
    "        return self.length * self.width\n",
    "    \n",
    "    def perimeter(self):\n",
    "        return 2 * (self.length + self.width)"
   ]
  },
  {
   "cell_type": "code",
   "execution_count": 8,
   "metadata": {},
   "outputs": [],
   "source": [
    "# Файл test_rectangle_unittest.py\n",
    "\n",
    "import unittest  # импорт библиотеки для тестирования кода\n",
    "# from rectangle import Rectangle\n",
    "\n",
    "class TestRectangle(unittest.TestCase):\n",
    "    def setUp(self):\n",
    "        self.rectangle = Rectangle(4, 3)\n",
    "\n",
    "    def test_area(self):\n",
    "        result = self.rectangle.area()\n",
    "        self.assertEqual(result, 12)\n",
    "\n",
    "    def test_perimeter(self):\n",
    "        result = self.rectangle.perimeter()\n",
    "        self.assertEqual(result, 14)"
   ]
  },
  {
   "cell_type": "code",
   "execution_count": 9,
   "metadata": {},
   "outputs": [
    {
     "name": "stderr",
     "output_type": "stream",
     "text": [
      "..\n",
      "----------------------------------------------------------------------\n",
      "Ran 2 tests in 0.003s\n",
      "\n",
      "OK\n"
     ]
    }
   ],
   "source": [
    "# Запускаем тесты unittest\n",
    "if __name__ == '__main__':\n",
    "    unittest.main(argv=[''], exit=False)  # аргументы argv=[''], exit=False для Jupiter Notebook"
   ]
  },
  {
   "cell_type": "markdown",
   "metadata": {},
   "source": [
    "<link rel=\"stylesheet\" type=\"text/css\" href=\"../styles/styles.css\">\n",
    "\n",
    "##### Тестирование с помощью pytest"
   ]
  },
  {
   "cell_type": "code",
   "execution_count": 10,
   "metadata": {},
   "outputs": [],
   "source": [
    "# Файл rectangle.py\n",
    "\n",
    "class Rectangle:\n",
    "    def __init__(self, length, width):\n",
    "        self.length = length\n",
    "        self.width = width\n",
    "    \n",
    "    def area(self):\n",
    "        return self.length * self.width\n",
    "    \n",
    "    def perimeter(self):\n",
    "        return 2 * (self.length + self.width)"
   ]
  },
  {
   "cell_type": "code",
   "execution_count": 1,
   "metadata": {},
   "outputs": [],
   "source": [
    "# Файл test_rectangle.py\n",
    "\n",
    "import pytest # импорт библиотеки для тестирования кода\n",
    "# from rectangle import Rectangle\n",
    "\n",
    "@pytest.fixture\n",
    "# Этот декоратор @pytest.fixture создает фикстуру для тестов\n",
    "# и позволяет предварительно настроить и изолировать ресурсы,\n",
    "# необходимые для выполнения тестовых случаев.\n",
    "\n",
    "def rectangle():\n",
    "    return Rectangle(4, 3)\n",
    "\n",
    "def test_area(rectangle):\n",
    "    result = rectangle.area()\n",
    "    assert result == 12\n",
    "\n",
    "def test_perimeter(rectangle):\n",
    "    result = rectangle.perimeter()\n",
    "    assert result == 14"
   ]
  },
  {
   "cell_type": "code",
   "execution_count": 16,
   "metadata": {},
   "outputs": [
    {
     "name": "stdout",
     "output_type": "stream",
     "text": [
      "\u001b[1m============================= test session starts =============================\u001b[0m\n",
      "platform win32 -- Python 3.11.2, pytest-8.1.1, pluggy-1.4.0 -- c:\\Users\\Artem\\AppData\\Local\\Programs\\Python\\Python311\\python.exe\n",
      "cachedir: .pytest_cache\n",
      "rootdir: d:\\Git\\ArtemKutsan\\Education\\Stepik\\Course01\\Part01\n",
      "plugins: anyio-3.6.2\n",
      "\u001b[1mcollecting ... \u001b[0mcollected 2 items\n",
      "\n",
      "test_rectangle_unittest.py::TestRectangle::test_area \u001b[32mPASSED\u001b[0m\u001b[32m              [ 50%]\u001b[0m\n",
      "test_rectangle_unittest.py::TestRectangle::test_perimeter \u001b[32mPASSED\u001b[0m\u001b[32m         [100%]\u001b[0m\n",
      "\n",
      "\u001b[32m============================== \u001b[32m\u001b[1m2 passed\u001b[0m\u001b[32m in 0.04s\u001b[0m\u001b[32m ==============================\u001b[0m\n"
     ]
    },
    {
     "data": {
      "text/plain": [
       "<ExitCode.OK: 0>"
      ]
     },
     "execution_count": 16,
     "metadata": {},
     "output_type": "execute_result"
    }
   ],
   "source": [
    "# Запускаем тесты pytest\n",
    "# pytest.main(['-v'])  # обычный вывод результатов\n",
    "pytest.main(['-v'])  # подробный вывод результатов"
   ]
  }
 ],
 "metadata": {
  "kernelspec": {
   "display_name": "Python 3",
   "language": "python",
   "name": "python3"
  },
  "language_info": {
   "codemirror_mode": {
    "name": "ipython",
    "version": 3
   },
   "file_extension": ".py",
   "mimetype": "text/x-python",
   "name": "python",
   "nbconvert_exporter": "python",
   "pygments_lexer": "ipython3",
   "version": "3.11.2"
  }
 },
 "nbformat": 4,
 "nbformat_minor": 2
}
