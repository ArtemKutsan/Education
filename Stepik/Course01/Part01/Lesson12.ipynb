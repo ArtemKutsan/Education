{
 "cells": [
  {
   "cell_type": "markdown",
   "metadata": {},
   "source": [
    "<link rel=\"stylesheet\" type=\"text/css\" href=\"../../styles/styles.css\">\n",
    "\n",
    "### 1.2 Объект, экземпляр, классы и реализация объектов в Python"
   ]
  },
  {
   "cell_type": "markdown",
   "metadata": {},
   "source": [
    "<link rel=\"stylesheet\" type=\"text/css\" href=\"../../styles/styles.css\">\n",
    "\n",
    "##### Step 3"
   ]
  },
  {
   "cell_type": "code",
   "execution_count": 2,
   "metadata": {},
   "outputs": [
    {
     "name": "stdout",
     "output_type": "stream",
     "text": [
      "Площадь прямоугольника: 200\n"
     ]
    }
   ],
   "source": [
    "# Класс \"Прямоугольник\"\n",
    "class Rectangle:\n",
    "    # Встроенный метод инициализации экземпляра класса\n",
    "    def __init__(self, width, height):\n",
    "        self.width = width\n",
    "        self.height = height\n",
    "    \n",
    "    # Метод вычисления площади прямоугольника\n",
    "    def get_area(self):\n",
    "        return self.width * self.height\n",
    "    \n",
    "\n",
    "# Пример использования класса\n",
    "rectangle = Rectangle(10, 20)       # создаем объект rectangle класса Rectangle\n",
    "square = rectangle.get_area()       # получаем площадь объекта rectangle\n",
    "\n",
    "print(f'Площадь прямоугольника: {square}')"
   ]
  },
  {
   "cell_type": "markdown",
   "metadata": {},
   "source": [
    "<link rel=\"stylesheet\" type=\"text/css\" href=\"../../styles/styles.css\">\n",
    "\n",
    "##### Step 5"
   ]
  },
  {
   "cell_type": "code",
   "execution_count": 3,
   "metadata": {},
   "outputs": [
    {
     "name": "stdout",
     "output_type": "stream",
     "text": [
      "Площадь прямоугольника: 200\n"
     ]
    }
   ],
   "source": [
    "# Класс \"Прямоугольник\"\n",
    "class Rectangle:\n",
    "    # Метод установки размеров прямоугольника\n",
    "    def set_dimensions(self, width, height):\n",
    "        self.width = width\n",
    "        self.height = height\n",
    "    \n",
    "    # Метод вычисления площади прямоугольника\n",
    "    def get_area(self):\n",
    "        return self.width * self.height\n",
    "    \n",
    "\n",
    "# Пример использования класса\n",
    "rectangle = Rectangle()             # создаем объект rectangle класса Rectangle\n",
    "rectangle.set_dimensions(10, 20)    # задаем ширину и высоту сторон объекта rectangle\n",
    "square = rectangle.get_area()       # получаем площадь объекта rectangle\n",
    "\n",
    "print(f'Площадь прямоугольника: {square}')"
   ]
  },
  {
   "cell_type": "markdown",
   "metadata": {},
   "source": [
    "<link rel=\"stylesheet\" type=\"text/css\" href=\"../../styles/styles.css\">\n",
    "\n",
    "##### Step 6"
   ]
  },
  {
   "cell_type": "code",
   "execution_count": 4,
   "metadata": {},
   "outputs": [
    {
     "name": "stdout",
     "output_type": "stream",
     "text": [
      "Сотрудник: John Doe, Возраст: 30, Зарплата: 50000\n"
     ]
    }
   ],
   "source": [
    "# Класс \"Сотрудник\"\n",
    "class Employee:\n",
    "    # Встроенный метод инициализации экземпляра класса\n",
    "    def __init__(self, first_name, last_name, age, salary):\n",
    "        self.first_name = first_name    # атрибут имя\n",
    "        self.last_name = last_name      # атрибут фамилия\n",
    "        self.age = age                  # атрибут возраст\n",
    "        self.salary = salary            # атрибут зарплата\n",
    "    \n",
    "    # Метод получения полного имени\n",
    "    def get_full_name(self):\n",
    "        return f\"{self.first_name} {self.last_name}\"\n",
    "    \n",
    "    # Метод получения возраста\n",
    "    def get_age(self):\n",
    "        return self.age\n",
    "    \n",
    "    # Метод получения зарплаты\n",
    "    def get_salary(self):\n",
    "        return self.salary\n",
    "    \n",
    "    # Метод установки зарплаты\n",
    "    def set_salary(self, new_salary):\n",
    "        self.salary = new_salary\n",
    "    \n",
    "    # Метод вывода информации о сотруднике\n",
    "    def display_info(self):\n",
    "        print(f\"Сотрудник: {self.get_full_name()}, Возраст: {self.get_age()}, Зарплата: {self.get_salary()}\")\n",
    "\n",
    "\n",
    "# Пример использования класса\n",
    "john_doe = Employee(\"John\", \"Doe\", 30, 50000)\n",
    "john_doe.display_info()"
   ]
  }
 ],
 "metadata": {
  "kernelspec": {
   "display_name": "Python 3",
   "language": "python",
   "name": "python3"
  },
  "language_info": {
   "codemirror_mode": {
    "name": "ipython",
    "version": 3
   },
   "file_extension": ".py",
   "mimetype": "text/x-python",
   "name": "python",
   "nbconvert_exporter": "python",
   "pygments_lexer": "ipython3",
   "version": "3.11.2"
  }
 },
 "nbformat": 4,
 "nbformat_minor": 2
}
