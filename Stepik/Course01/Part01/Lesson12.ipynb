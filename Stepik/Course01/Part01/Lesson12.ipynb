{
 "cells": [
  {
   "cell_type": "markdown",
   "metadata": {},
   "source": [
    "<link rel=\"stylesheet\" type=\"text/css\" href=\"../../styles/styles.css\">\n",
    "\n",
    "### 1.2 Объект, экземпляр, классы и реализация объектов в Python"
   ]
  },
  {
   "cell_type": "code",
   "execution_count": 2,
   "metadata": {},
   "outputs": [
    {
     "name": "stdout",
     "output_type": "stream",
     "text": [
      "Площадь прямоугольника: 200\n"
     ]
    }
   ],
   "source": [
    "# Класс \"Прямоугольник\"\n",
    "class Rectangle:\n",
    "    # Встроенный метод инициализации экземпляра класса\n",
    "    def __init__(self, width, height):\n",
    "        self.width = width\n",
    "        self.height = height\n",
    "    \n",
    "    # Метод вычисления площади прямоугольника\n",
    "    def get_area(self):\n",
    "        return self.width * self.height\n",
    "    \n",
    "\n",
    "# Пример использования класса\n",
    "rectangle = Rectangle(10, 20)       # создаем объект rectangle класса Rectangle\n",
    "square = rectangle.get_area()       # получаем площадь объекта rectangle\n",
    "\n",
    "print(f'Площадь прямоугольника: {square}')"
   ]
  },
  {
   "cell_type": "code",
   "execution_count": 3,
   "metadata": {},
   "outputs": [
    {
     "name": "stdout",
     "output_type": "stream",
     "text": [
      "Площадь прямоугольника: 200\n"
     ]
    }
   ],
   "source": [
    "# Класс \"Прямоугольник\"\n",
    "class Rectangle:\n",
    "    # Метод установки размеров прямоугольника\n",
    "    def set_dimensions(self, width, height):\n",
    "        self.width = width\n",
    "        self.height = height\n",
    "    \n",
    "    # Метод вычисления площади прямоугольника\n",
    "    def get_area(self):\n",
    "        return self.width * self.height\n",
    "    \n",
    "\n",
    "# Пример использования класса\n",
    "rectangle = Rectangle()             # создаем объект rectangle класса Rectangle\n",
    "rectangle.set_dimensions(10, 20)    # задаем ширину и высоту сторон объекта rectangle\n",
    "square = rectangle.get_area()       # получаем площадь объекта rectangle\n",
    "\n",
    "print(f'Площадь прямоугольника: {square}')"
   ]
  },
  {
   "cell_type": "code",
   "execution_count": 4,
   "metadata": {},
   "outputs": [
    {
     "name": "stdout",
     "output_type": "stream",
     "text": [
      "Сотрудник: John Doe, Возраст: 30, Зарплата: 50000\n"
     ]
    }
   ],
   "source": [
    "# Класс \"Сотрудник\"\n",
    "class Employee:\n",
    "    # Встроенный метод инициализации экземпляра класса\n",
    "    def __init__(self, first_name, last_name, age, salary):\n",
    "        self.first_name = first_name    # атрибут имя\n",
    "        self.last_name = last_name      # атрибут фамилия\n",
    "        self.age = age                  # атрибут возраст\n",
    "        self.salary = salary            # атрибут зарплата\n",
    "    \n",
    "    # Метод получения полного имени\n",
    "    def get_full_name(self):\n",
    "        return f\"{self.first_name} {self.last_name}\"\n",
    "    \n",
    "    # Метод получения возраста\n",
    "    def get_age(self):\n",
    "        return self.age\n",
    "    \n",
    "    # Метод получения зарплаты\n",
    "    def get_salary(self):\n",
    "        return self.salary\n",
    "    \n",
    "    # Метод установки зарплаты\n",
    "    def set_salary(self, new_salary):\n",
    "        self.salary = new_salary\n",
    "    \n",
    "    # Метод вывода информации о сотруднике\n",
    "    def display_info(self):\n",
    "        print(f\"Сотрудник: {self.get_full_name()}, Возраст: {self.get_age()}, Зарплата: {self.get_salary()}\")\n",
    "\n",
    "\n",
    "# Пример использования класса\n",
    "john_doe = Employee(\"John\", \"Doe\", 30, 50000)\n",
    "john_doe.display_info()"
   ]
  },
  {
   "cell_type": "markdown",
   "metadata": {},
   "source": [
    "<link rel=\"stylesheet\" type=\"text/css\" href=\"../../styles/styles.css\">\n",
    "\n",
    "Создание класса \"Геометрическая фигура\":\n",
    "\n",
    "- Создание абстрактного класса \"Геометрическая фигура\" с методами для вычисления площади и периметра.\n",
    "- Создание подклассов (например, \"Прямоугольник\", \"Круг\", \"Треугольник\") и реализация их методов для вычисления площади и периметра."
   ]
  },
  {
   "cell_type": "code",
   "execution_count": 4,
   "metadata": {},
   "outputs": [
    {
     "name": "stdout",
     "output_type": "stream",
     "text": [
      "Периметр круга: 62.83\n",
      "Площадь круга: 314.16\n",
      "\n",
      "Периметр треугольника: 18.0\n",
      "Площадь треугольника: 14.7\n",
      "\n",
      "Периметр прямоугольника: 100.0\n",
      "Площадь прямоугольника: 600.0\n"
     ]
    }
   ],
   "source": [
    "# Класс \"Геометрическая фигура\"\n",
    "# Импорт библиотек\n",
    "from abc import ABC, abstractmethod\n",
    "from math import pi\n",
    "\n",
    "\n",
    "# Класс \"Геометрическая фигура\"\n",
    "class GeometricFigure(ABC):\n",
    "    @abstractmethod\n",
    "    def get_perimeter(self, name: str, *args: int | float) -> float:\n",
    "        '''Метод вычисляет периметр фигуры.\n",
    "\n",
    "        Args:\n",
    "            name (str): Имя фигуры: Circle, Triangle или Rectangle.\n",
    "\n",
    "        Returns:\n",
    "            int | float: Периметр фигуры.\n",
    "        '''\n",
    "        match name:\n",
    "            case 'Circle':\n",
    "                perimeter = 2 * pi * args[0]\n",
    "            case 'Triangle':\n",
    "                perimeter = sum(map(float, args))\n",
    "            case 'Rectangle':\n",
    "                perimeter = sum(map(float, args)) * 2\n",
    "\n",
    "        return round(perimeter, 2)\n",
    "    \n",
    "    @abstractmethod\n",
    "    def get_area(self, name: str, *args: int | float) -> float:\n",
    "        '''Метод вычисляет площадь фигуры.\n",
    "\n",
    "        Args:\n",
    "            name (str): Имя фигуры: Circle, Triangle или Rectangle.\n",
    "\n",
    "        Returns:\n",
    "            int | float: Площадь фигуры.\n",
    "        '''\n",
    "        match name:\n",
    "            case 'Circle':\n",
    "                area = pi * (args[0] ** 2)\n",
    "            case 'Triangle':\n",
    "                a, b, c = map(float, args)\n",
    "                hp = sum([a, b, c]) / 2  # полупериметр\n",
    "                area = (hp * (hp - a) * (hp - b) * (hp - c)) ** 0.5\n",
    "            case 'Rectangle':\n",
    "                a, b = map(float, args)\n",
    "                area = a * b\n",
    "            \n",
    "        return round(area, 2)\n",
    "\n",
    "\n",
    "# Подкласс \"Круг\" класса \"Геометрическая фигура\"\n",
    "class Circle(GeometricFigure):\n",
    "    def get_perimeter(self, name: str, *args: int | float) -> float:\n",
    "        return super().get_perimeter(name, *args)\n",
    "\n",
    "    def get_area(self, name: str, *args: int | float) -> float:\n",
    "        return super().get_area(name, *args)\n",
    "\n",
    "\n",
    "# Подкласс \"Треугольник\" класса \"Геометрическая фигура\"\n",
    "class Triangle(GeometricFigure):\n",
    "    def get_perimeter(self, name: str, *args: int | float) -> float:\n",
    "        return super().get_perimeter(name, *args)\n",
    "\n",
    "    def get_area(self, name: str, *args: int | float) -> float:\n",
    "        return super().get_area(name, *args)\n",
    "\n",
    "\n",
    "# Подкласс \"Прямоугольник\" класса \"Геометрическая фигура\"\n",
    "class Rectangle(GeometricFigure):\n",
    "    def get_perimeter(self, name: str, *args: int | float) -> float:\n",
    "        return super().get_perimeter(name, *args)\n",
    "\n",
    "    def get_area(self, name: str, *args: int | float) -> float:\n",
    "        return super().get_area(name, *args)\n",
    "\n",
    "\n",
    "# Ввод данных от пользователя\n",
    "circle_radius = float(input('Введите радиус круга (r): '))\n",
    "triangle_sides = float(input('Введите стороны треугольника через пробел (a, b, c): ').split())\n",
    "rectangle_sides = float(input('Введите стороны прямоугольника через пробел (a, b): ').split())\n",
    "\n",
    "# Создание объектов\n",
    "circle = Circle()\n",
    "triangle = Triangle()\n",
    "rectangle = Rectangle()\n",
    "\n",
    "# Вычисление периметра и площади фируг\n",
    "circle_perimeter = circle.get_perimeter(\"Circle\", circle_radius)\n",
    "circle_area = circle.get_area(\"Circle\", circle_radius)\n",
    "triangle_perimeter = triangle.get_perimeter(\"Triangle\", *map(float, triangle_sides))\n",
    "triangle_area = triangle.get_area(\"Triangle\", *map(float, triangle_sides))\n",
    "rectangle_perimeter = rectangle.get_perimeter(\"Rectangle\", *map(float, rectangle_sides))\n",
    "rectangle_area = rectangle.get_area(\"Rectangle\", *map(float, rectangle_sides))\n",
    "\n",
    "# Вывод результатов\n",
    "print(f'Периметр круга: {circle_perimeter}')\n",
    "print(f'Площадь круга: {circle_area}')\n",
    "print()\n",
    "print(f'Периметр треугольника: {triangle_perimeter}')\n",
    "print(f'Площадь треугольника: {triangle_area}')\n",
    "print()\n",
    "print(f'Периметр прямоугольника: {rectangle_perimeter}')\n",
    "print(f'Площадь прямоугольника: {rectangle_area}')"
   ]
  }
 ],
 "metadata": {
  "kernelspec": {
   "display_name": "Python 3",
   "language": "python",
   "name": "python3"
  },
  "language_info": {
   "codemirror_mode": {
    "name": "ipython",
    "version": 3
   },
   "file_extension": ".py",
   "mimetype": "text/x-python",
   "name": "python",
   "nbconvert_exporter": "python",
   "pygments_lexer": "ipython3",
   "version": "3.11.2"
  }
 },
 "nbformat": 4,
 "nbformat_minor": 2
}
