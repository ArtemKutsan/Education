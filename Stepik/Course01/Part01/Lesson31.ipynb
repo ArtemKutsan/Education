{
 "cells": [
  {
   "cell_type": "markdown",
   "metadata": {},
   "source": [
    "<link rel=\"stylesheet\" type=\"text/css\" href=\"../../styles/styles.css\">\n",
    "\n",
    "##### 3.1 Генерация исключений"
   ]
  },
  {
   "cell_type": "code",
   "execution_count": 3,
   "metadata": {},
   "outputs": [],
   "source": [
    "# Функция вычисления среднего арифметического списка\n",
    "def calculate_average(numbers):\n",
    "    # Проверяем, если список чисел пустой, генерируем исключение\n",
    "    if not numbers:\n",
    "        raise ValueError('Список чисел пустой. Невозможно вычислить среднее значение.')\n",
    "    \n",
    "    return sum(numbers) / len(numbers)"
   ]
  },
  {
   "cell_type": "code",
   "execution_count": 4,
   "metadata": {},
   "outputs": [
    {
     "name": "stdout",
     "output_type": "stream",
     "text": [
      "Среднее арифметическое: 3.0\n",
      "Ошибка: Список чисел пустой. Невозможно вычислить среднее значение.\n"
     ]
    }
   ],
   "source": [
    "# Пример генерации исключений\n",
    "try:\n",
    "    numbers = [1, 2, 3, 4, 5]\n",
    "    average = calculate_average(numbers)\n",
    "    print('Среднее арифметическое:', average)\n",
    "except ValueError as e:\n",
    "    print('Ошибка:', e)\n",
    "\n",
    "try:\n",
    "    empty_list = []\n",
    "    average = calculate_average(empty_list)\n",
    "    print('Среднее арифметическое:', average)\n",
    "except ValueError as e:\n",
    "    print('Ошибка:', e)"
   ]
  }
 ],
 "metadata": {
  "kernelspec": {
   "display_name": "Python 3",
   "language": "python",
   "name": "python3"
  },
  "language_info": {
   "codemirror_mode": {
    "name": "ipython",
    "version": 3
   },
   "file_extension": ".py",
   "mimetype": "text/x-python",
   "name": "python",
   "nbconvert_exporter": "python",
   "pygments_lexer": "ipython3",
   "version": "3.11.2"
  }
 },
 "nbformat": 4,
 "nbformat_minor": 2
}
