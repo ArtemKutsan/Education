{
 "cells": [
  {
   "cell_type": "markdown",
   "metadata": {},
   "source": [
    "<link rel=\"stylesheet\" type=\"text/css\" href=\"../../styles/styles.css\">\n",
    "\n",
    "##### 3.1 Генерация исключений"
   ]
  },
  {
   "cell_type": "code",
   "execution_count": null,
   "metadata": {},
   "outputs": [],
   "source": [
    "# Пример генерации исключений\n",
    "# Функция вычисления среднего арифметического списка\n",
    "def calculate_average(numbers):\n",
    "    # Проверяем, если список чисел пустой, генерируем исключение\n",
    "    if not numbers:\n",
    "        raise ValueError(\"Список чисел пустой. Невозможно вычислить среднее значение.\")\n",
    "    \n",
    "    return sum(numbers) / len(numbers)"
   ]
  }
 ],
 "metadata": {
  "language_info": {
   "name": "python"
  }
 },
 "nbformat": 4,
 "nbformat_minor": 2
}
