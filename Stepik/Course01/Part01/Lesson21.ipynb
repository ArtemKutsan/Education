{
 "cells": [
  {
   "cell_type": "markdown",
   "metadata": {},
   "source": [
    "<link rel=\"stylesheet\" type=\"text/css\" href=\"../../styles/styles.css\">\n",
    "\n",
    "### 2.1 Наследование"
   ]
  },
  {
   "cell_type": "code",
   "execution_count": 5,
   "metadata": {},
   "outputs": [],
   "source": [
    "# Импорт библиотек\n",
    "import math"
   ]
  },
  {
   "cell_type": "code",
   "execution_count": 6,
   "metadata": {},
   "outputs": [],
   "source": [
    "# Класс \"Фигура\"\n",
    "class Shape:\n",
    "    # Мтод вычисления площади\n",
    "    def calculate_area(self):\n",
    "        pass\n",
    "\n",
    "    # Метод вычисления периметра\n",
    "    def calculate_perimeter(self):\n",
    "        pass"
   ]
  },
  {
   "cell_type": "code",
   "execution_count": 7,
   "metadata": {},
   "outputs": [],
   "source": [
    "# Подкласс \"Прямоугольник\" класса \"Фигура\"\n",
    "class Rectangle(Shape):\n",
    "    def __init__(self, length, width):\n",
    "        self.length = length\n",
    "        self.width = width\n",
    "\n",
    "    # Переопределяем метод вычисления площади класса-родителя\n",
    "    def calculate_area(self):\n",
    "        area = self.length * self.width\n",
    "        return area\n",
    "\n",
    "    # Переопределяем метод вычисления периметра класса-родителя\n",
    "    def calculate_perimeter(self):\n",
    "        perimeter = 2 * (self.length + self.width)\n",
    "        return perimeter"
   ]
  },
  {
   "cell_type": "code",
   "execution_count": 8,
   "metadata": {},
   "outputs": [],
   "source": [
    "# Подкласс \"Окружность\" класса \"Фигура\"\n",
    "class Circle(Shape):\n",
    "    def __init__(self, radius):\n",
    "        self.radius = radius\n",
    "\n",
    "    # Переопределяем метод вычисления площади класса-родителя\n",
    "    def calculate_area(self):\n",
    "        area = math.pi * self.radius**2\n",
    "        return area\n",
    "\n",
    "    # Переопределяем метод вычисления периметра класса-родителя\n",
    "    def calculate_perimeter(self):\n",
    "        perimeter = 2 * math.pi * self.radius\n",
    "        return perimeter"
   ]
  },
  {
   "cell_type": "code",
   "execution_count": 12,
   "metadata": {},
   "outputs": [
    {
     "name": "stdout",
     "output_type": "stream",
     "text": [
      "Тесты пройдены успешно!\n"
     ]
    }
   ],
   "source": [
    "# Пример использования подклассов \"Прямоугольник\" и \"Окружность\"\n",
    "'''\n",
    "assert - это оператор в Python, который используется для проверки условий. \n",
    "Если условие оценивается как False, то он вызывает исключение AssertionError. \n",
    "Если условие оценивается как True, то программа продолжает выполнение без изменений.\n",
    "'''\n",
    "rectangle = Rectangle(5, 7)\n",
    "assert rectangle.calculate_area() == 35\n",
    "assert rectangle.calculate_perimeter() == 24\n",
    "\n",
    "circle = Circle(3)\n",
    "assert round(circle.calculate_area(), 2) == 28.27\n",
    "assert round(circle.calculate_perimeter(), 2) == 18.85\n",
    "\n",
    "print(\"Тесты пройдены успешно!\")"
   ]
  }
 ],
 "metadata": {
  "kernelspec": {
   "display_name": "Python 3",
   "language": "python",
   "name": "python3"
  },
  "language_info": {
   "codemirror_mode": {
    "name": "ipython",
    "version": 3
   },
   "file_extension": ".py",
   "mimetype": "text/x-python",
   "name": "python",
   "nbconvert_exporter": "python",
   "pygments_lexer": "ipython3",
   "version": "3.11.2"
  }
 },
 "nbformat": 4,
 "nbformat_minor": 2
}
