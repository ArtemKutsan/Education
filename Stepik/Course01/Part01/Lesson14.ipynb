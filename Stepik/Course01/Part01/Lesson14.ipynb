{
 "cells": [
  {
   "cell_type": "markdown",
   "metadata": {},
   "source": [
    "<link rel=\"stylesheet\" type=\"text/css\" href=\"../../styles/styles.css\">\n",
    "\n",
    "### 1.4 Особые методы классов"
   ]
  },
  {
   "cell_type": "code",
   "execution_count": 1,
   "metadata": {},
   "outputs": [
    {
     "name": "stdout",
     "output_type": "stream",
     "text": [
      "True\n",
      "True\n",
      "True\n",
      "False\n"
     ]
    }
   ],
   "source": [
    "# Класс \"Дробь\"\n",
    "class Fraction:\n",
    "    def __init__(self, numerator, denominator):\n",
    "        self.numerator = numerator\n",
    "        self.denominator = denominator\n",
    "    \n",
    "    def __add__(self, other):\n",
    "        # Сложение дробей: a/b + c/d = (a*d + b*c) / b*d\n",
    "        new_numerator = self.numerator * other.denominator + other.numerator * self.denominator\n",
    "        new_denominator = self.denominator * other.denominator\n",
    "        return Fraction(new_numerator, new_denominator)\n",
    "    \n",
    "    def __sub__(self, other):\n",
    "        # Вычитание дробей: a/b - c/d = (a*d - b*c) / b*d\n",
    "        new_numerator = self.numerator * other.denominator - other.numerator * self.denominator\n",
    "        new_denominator = self.denominator * other.denominator\n",
    "        return Fraction(new_numerator, new_denominator)\n",
    "    \n",
    "    def __mul__(self, other):\n",
    "        # Умножение дробей: a/b * c/d = (a*c) / (b*d)\n",
    "        new_numerator = self.numerator * other.numerator\n",
    "        new_denominator = self.denominator * other.denominator\n",
    "        return Fraction(new_numerator, new_denominator)\n",
    "    \n",
    "    def __eq__(self, other):\n",
    "        # Сравнение дробей: a/b == c/d если a*d == b*c\n",
    "        return self.numerator * other.denominator == other.numerator * self.denominator\n",
    "\n",
    "\n",
    "# Пример использования класса\n",
    "# Создание двух объектов класса Fraction\n",
    "fraction1 = Fraction(1, 2)\n",
    "fraction2 = Fraction(3, 4)\n",
    "\n",
    "# Пример сложения дробей\n",
    "result = fraction1 + fraction2\n",
    "print(result == Fraction(5, 4))  # ожидаемый вывод: 5/4\n",
    "\n",
    "# Пример вычитания дробей\n",
    "result = fraction1 - fraction2\n",
    "print(result == Fraction(-1, 4))  # ожидаемый вывод: -1/4\n",
    "\n",
    "# Пример умножения дробей\n",
    "result = fraction1 * fraction2\n",
    "print(result == Fraction(3, 8))  # ожидаемый вывод: 3/8\n",
    "\n",
    "# Пример сравнения дробей\n",
    "result = fraction1 == fraction2\n",
    "print(result)  # ожидаемый вывод: False"
   ]
  }
 ],
 "metadata": {
  "kernelspec": {
   "display_name": "Python 3",
   "language": "python",
   "name": "python3"
  },
  "language_info": {
   "codemirror_mode": {
    "name": "ipython",
    "version": 3
   },
   "file_extension": ".py",
   "mimetype": "text/x-python",
   "name": "python",
   "nbconvert_exporter": "python",
   "pygments_lexer": "ipython3",
   "version": "3.11.2"
  }
 },
 "nbformat": 4,
 "nbformat_minor": 2
}
