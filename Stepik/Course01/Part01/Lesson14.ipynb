{
 "cells": [
  {
   "cell_type": "markdown",
   "metadata": {},
   "source": [
    "<link rel=\"stylesheet\" type=\"text/css\" href=\"../../styles/styles.css\">\n",
    "\n",
    "### 1.4 Особые методы классов"
   ]
  },
  {
   "cell_type": "code",
   "execution_count": 1,
   "metadata": {},
   "outputs": [
    {
     "name": "stdout",
     "output_type": "stream",
     "text": [
      "True\n",
      "True\n",
      "True\n",
      "False\n"
     ]
    }
   ],
   "source": [
    "# Класс \"Дробные числа\"\n",
    "class Fraction:\n",
    "    def __init__(self, numerator, denominator):\n",
    "        self.numerator = numerator\n",
    "        self.denominator = denominator\n",
    "    \n",
    "    def __add__(self, other):\n",
    "        # Сложение дробей: a/b + c/d = (a*d + b*c) / b*d\n",
    "        new_numerator = self.numerator * other.denominator + other.numerator * self.denominator\n",
    "        new_denominator = self.denominator * other.denominator\n",
    "        return Fraction(new_numerator, new_denominator)\n",
    "    \n",
    "    def __sub__(self, other):\n",
    "        # Вычитание дробей: a/b - c/d = (a*d - b*c) / b*d\n",
    "        new_numerator = self.numerator * other.denominator - other.numerator * self.denominator\n",
    "        new_denominator = self.denominator * other.denominator\n",
    "        return Fraction(new_numerator, new_denominator)\n",
    "    \n",
    "    def __mul__(self, other):\n",
    "        # Умножение дробей: a/b * c/d = (a*c) / (b*d)\n",
    "        new_numerator = self.numerator * other.numerator\n",
    "        new_denominator = self.denominator * other.denominator\n",
    "        return Fraction(new_numerator, new_denominator)\n",
    "    \n",
    "    def __eq__(self, other):\n",
    "        # Сравнение дробей: a/b == c/d если a*d == b*c\n",
    "        return self.numerator * other.denominator == other.numerator * self.denominator\n",
    "\n",
    "\n",
    "# Пример использования класса\n",
    "# Создание двух объектов класса Fraction\n",
    "fraction1 = Fraction(1, 2)\n",
    "fraction2 = Fraction(3, 4)\n",
    "\n",
    "# Пример сложения дробей\n",
    "result = fraction1 + fraction2\n",
    "print(result == Fraction(5, 4))  # ожидаемый вывод: 5/4\n",
    "\n",
    "# Пример вычитания дробей\n",
    "result = fraction1 - fraction2\n",
    "print(result == Fraction(-1, 4))  # ожидаемый вывод: -1/4\n",
    "\n",
    "# Пример умножения дробей\n",
    "result = fraction1 * fraction2\n",
    "print(result == Fraction(3, 8))  # ожидаемый вывод: 3/8\n",
    "\n",
    "# Пример сравнения дробей\n",
    "result = fraction1 == fraction2\n",
    "print(result)  # ожидаемый вывод: False"
   ]
  },
  {
   "cell_type": "code",
   "execution_count": 3,
   "metadata": {},
   "outputs": [],
   "source": [
    "# Импорт библиотеки для работы со временем\n",
    "import time  # импорт библиотеки для работы со временем"
   ]
  },
  {
   "cell_type": "code",
   "execution_count": 12,
   "metadata": {},
   "outputs": [
    {
     "name": "stdout",
     "output_type": "stream",
     "text": [
      "Функция выполнилась\n",
      "Время выполнения функции: 2.0006 секунд\n"
     ]
    }
   ],
   "source": [
    "# Класс \"Таймер\"\n",
    "class Timer:\n",
    "    # Встроенный метод\n",
    "    def __enter__(self):\n",
    "        '''\n",
    "        Метод вызывается при входе в блок with.\n",
    "\n",
    "        Returns:\n",
    "            Timer: Объект таймера.\n",
    "        '''\n",
    "        self.start_time = time.time()\n",
    "        return self\n",
    "    \n",
    "    # Встроенный метод\n",
    "    def __exit__(self, exc_type, exc_value, traceback):\n",
    "        '''\n",
    "        Метод вызывается при выходе из блока with.\n",
    "\n",
    "        Args:\n",
    "            exc_type (type): Тип исключения, если оно произошло.\n",
    "            exc_value (Exception): Объект исключения, если оно произошло.\n",
    "            traceback (traceback): Объект traceback, представляющий стек вызовов.\n",
    "\n",
    "        Returns:\n",
    "            None\n",
    "        '''\n",
    "        self.end_time = time.time()\n",
    "        execution_time = self.end_time - self.start_time\n",
    "        print(f'Время выполнения функции: {execution_time:.4f} секунд')\n",
    "\n",
    "# Метод-обёртка измерения выполнения функции\n",
    "def measure_time(func):\n",
    "    '''\n",
    "    Метод-обёртка для измерения времени выполнения функции.\n",
    "\n",
    "    Returns:\n",
    "        object: Результат выполнения переданной функции.\n",
    "    '''\n",
    "    def wrapper(*args, **kwargs):\n",
    "        with Timer():\n",
    "            return func(*args, **kwargs)\n",
    "    return wrapper\n",
    "\n",
    "\n",
    "# Пример использования декоратора для замера времени выполнения функции\n",
    "@measure_time\n",
    "def some_function():\n",
    "    # Некоторая долгая функция\n",
    "    time.sleep(2)\n",
    "    print('Функция выполнилась')\n",
    "\n",
    "some_function()  # выведет время выполнения функции"
   ]
  },
  {
   "cell_type": "code",
   "execution_count": 9,
   "metadata": {},
   "outputs": [
    {
     "name": "stdout",
     "output_type": "stream",
     "text": [
      "Функция выполнилась\n",
      "Время выполнения функции \"some_function\": 2.0009 секунд\n"
     ]
    }
   ],
   "source": [
    "# Обертка wraps\n",
    "import time                     # импорт библиотеки для работы со временем\n",
    "from functools import wraps     # импорт библиотеки для \"обертки кода\"\n",
    "\n",
    "\n",
    "def timer_decorator(func):\n",
    "    @wraps(func)\n",
    "    def wrapper(*args, **kwargs):\n",
    "        start_time = time.time()\n",
    "        result = func(*args, **kwargs)\n",
    "        end_time = time.time()\n",
    "        execution_time = end_time - start_time\n",
    "        print(f'Время выполнения функции \"{func.__name__}\": {execution_time:.4f} секунд')\n",
    "        return result\n",
    "    return wrapper\n",
    "\n",
    "\n",
    "# Пример использования декоратора wraps\n",
    "@timer_decorator\n",
    "def some_function():\n",
    "    time.sleep(2)\n",
    "    print('Функция выполнилась')\n",
    "\n",
    "some_function()"
   ]
  }
 ],
 "metadata": {
  "kernelspec": {
   "display_name": "Python 3",
   "language": "python",
   "name": "python3"
  },
  "language_info": {
   "codemirror_mode": {
    "name": "ipython",
    "version": 3
   },
   "file_extension": ".py",
   "mimetype": "text/x-python",
   "name": "python",
   "nbconvert_exporter": "python",
   "pygments_lexer": "ipython3",
   "version": "3.11.2"
  }
 },
 "nbformat": 4,
 "nbformat_minor": 2
}
