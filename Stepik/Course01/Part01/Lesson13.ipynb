{
 "cells": [
  {
   "cell_type": "markdown",
   "metadata": {},
   "source": [
    "<link rel=\"stylesheet\" type=\"text/css\" href=\"../../styles/styles.css\">\n",
    "\n",
    "### 1.3 Методы"
   ]
  },
  {
   "cell_type": "code",
   "execution_count": 1,
   "metadata": {},
   "outputs": [
    {
     "name": "stdout",
     "output_type": "stream",
     "text": [
      "False\n",
      "True\n"
     ]
    }
   ],
   "source": [
    "# Класс \"Дубликаты в списке\"\n",
    "class ListChecker:\n",
    "    @staticmethod\n",
    "    def has_duplicates(input_list):\n",
    "        '''\n",
    "        Проверяет наличие дубликатов в списке.\n",
    "\n",
    "        Args:\n",
    "            input_list (list): Список для проверки на наличие дубликатов.\n",
    "\n",
    "        Returns:\n",
    "            bool: True, если в списке есть дубликаты, False в противном случае.\n",
    "        '''\n",
    "        return len(input_list) != len(set(input_list))\n",
    "    \n",
    "\n",
    "# Создаем экземпляр класса ListChecker\n",
    "checker = ListChecker()\n",
    "\n",
    "# Список для проверки на наличие дубликатов\n",
    "input_list = [1, 2, 3, 4, 5]\n",
    "# Проверяем список на наличие дубликатов\n",
    "print(checker.has_duplicates(input_list))  # вывод: False\n",
    "\n",
    "# Изменяем список, добавляя дубликат\n",
    "input_list = [1, 2, 3, 4, 5, 5]\n",
    "# Проверяем измененный список на наличие дубликатов\n",
    "print(checker.has_duplicates(input_list))  # вывод: True"
   ]
  },
  {
   "cell_type": "code",
   "execution_count": 7,
   "metadata": {},
   "outputs": [
    {
     "name": "stdout",
     "output_type": "stream",
     "text": [
      "Перевернутая строка: !dlrow ,olleH\n"
     ]
    }
   ],
   "source": [
    "# Класс \"Операции со строками\"\n",
    "class StringManipulator:\n",
    "    @staticmethod\n",
    "    def StringInverse(input_string):\n",
    "        '''\n",
    "        Переворачивает строку.\n",
    "\n",
    "        Args:\n",
    "            input_string (str): Входная строка.\n",
    "\n",
    "        Returns:\n",
    "            str: Перевернутая версия входной строки.\n",
    "        '''\n",
    "        return input_string[::-1]\n",
    "    \n",
    "\n",
    "# Создаем экземпляр класса StringManipulator\n",
    "string_manipulator = StringManipulator()\n",
    "\n",
    "# Вызываем метод StringInverse для переворота строки\n",
    "input_string = 'Hello, world!'\n",
    "reversed_string = string_manipulator.StringInverse(input_string)\n",
    "# Выводим результат\n",
    "print('Перевернутая строка:', reversed_string)"
   ]
  },
  {
   "cell_type": "code",
   "execution_count": 10,
   "metadata": {},
   "outputs": [
    {
     "name": "stdout",
     "output_type": "stream",
     "text": [
      "Иван говорит привет\n"
     ]
    }
   ],
   "source": [
    "# Класс \"Студент\"\n",
    "class Student:\n",
    "    # Встроенный метод инициализации экземпляра класса\n",
    "    def __init__(self, name):\n",
    "        self.name = name\n",
    "    \n",
    "    def greet(self):\n",
    "        print(f'{self.name} говорит привет')\n",
    "\n",
    "# Создаем экземпляр класса Student с именем \"Иван\"\n",
    "student = Student('Иван')\n",
    "# Вызываем метод greet\n",
    "student.greet()  # вывод: Иван говорит привет"
   ]
  },
  {
   "cell_type": "code",
   "execution_count": 11,
   "metadata": {},
   "outputs": [
    {
     "name": "stdout",
     "output_type": "stream",
     "text": [
      "10 миль равно 16.0934 километрам\n"
     ]
    }
   ],
   "source": [
    "# Класс \"Конвертер миль\"\n",
    "class Converter:\n",
    "    @staticmethod\n",
    "    def convert_miles_to_kilometers(miles):\n",
    "        ''''\n",
    "        Конвертирует мили в километры.\n",
    "\n",
    "        Args:\n",
    "            miles (float): Расстояние в милях.\n",
    "\n",
    "        Returns:\n",
    "            float: Расстояние, сконвертированное в километры.\n",
    "        '''\n",
    "        return miles * 1.60934\n",
    "\n",
    "\n",
    "# Пример вызова статического метода для конвертации миль в километры\n",
    "distance_in_miles = 10\n",
    "distance_in_kilometers = Converter.convert_miles_to_kilometers(distance_in_miles)\n",
    "print(f'{distance_in_miles} миль равно {distance_in_kilometers} километрам')"
   ]
  },
  {
   "cell_type": "code",
   "execution_count": 15,
   "metadata": {},
   "outputs": [
    {
     "name": "stdout",
     "output_type": "stream",
     "text": [
      "Общая стоимость заказа номер 15: 600 рублей\n"
     ]
    }
   ],
   "source": [
    "# Класс \"Заказ\"\n",
    "class Order:\n",
    "    def __init__(self, number):\n",
    "        self.number = number    # номер заказа\n",
    "        self.items = {}         # названия товаров с ценами\n",
    "    \n",
    "    def add_item(self, item, price):\n",
    "        '''\n",
    "        Добавляет товар в заказ.\n",
    "\n",
    "        Args:\n",
    "            item (str): Название товара.\n",
    "            price (float): Цена товара.\n",
    "        '''\n",
    "        self.items[item] = price\n",
    "    \n",
    "    def calculate_total(self):\n",
    "        '''\n",
    "        Вычисляет общую стоимость заказа.\n",
    "\n",
    "        Returns:\n",
    "            float: Общая стоимость заказа.\n",
    "        '''\n",
    "        total = sum(self.items.values())\n",
    "        \n",
    "        return total\n",
    "    \n",
    "\n",
    "# Создаем заказ с номером 15\n",
    "order = Order(15)\n",
    "\n",
    "# Добавляем товары в заказ\n",
    "order.add_item(\"Товар 1\", 100)\n",
    "order.add_item(\"Товар 2\", 200)\n",
    "order.add_item(\"Товар 3\", 300)\n",
    "\n",
    "# Вычисляем общую стоимость заказа\n",
    "total_cost = order.calculate_total()\n",
    "print(f'Общая стоимость заказа номер {order.number}: {total_cost} рублей')"
   ]
  }
 ],
 "metadata": {
  "kernelspec": {
   "display_name": "Python 3",
   "language": "python",
   "name": "python3"
  },
  "language_info": {
   "codemirror_mode": {
    "name": "ipython",
    "version": 3
   },
   "file_extension": ".py",
   "mimetype": "text/x-python",
   "name": "python",
   "nbconvert_exporter": "python",
   "pygments_lexer": "ipython3",
   "version": "3.11.2"
  }
 },
 "nbformat": 4,
 "nbformat_minor": 2
}
