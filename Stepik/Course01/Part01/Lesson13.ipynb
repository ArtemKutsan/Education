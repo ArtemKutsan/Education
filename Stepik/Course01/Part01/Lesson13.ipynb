{
 "cells": [
  {
   "cell_type": "markdown",
   "metadata": {},
   "source": [
    "<link rel=\"stylesheet\" type=\"text/css\" href=\"../../styles/styles.css\">\n",
    "\n",
    "### 1.3 Методы"
   ]
  },
  {
   "cell_type": "code",
   "execution_count": 1,
   "metadata": {},
   "outputs": [
    {
     "name": "stdout",
     "output_type": "stream",
     "text": [
      "False\n",
      "True\n"
     ]
    }
   ],
   "source": [
    "# Класс \"Проверяльщик дубликатов в списке\"\n",
    "class ListChecker:\n",
    "    @staticmethod\n",
    "    def has_duplicates(input_list):\n",
    "        '''Проверяет наличие дубликатов в списке.\n",
    "\n",
    "        Args:\n",
    "            input_list (list): Список для проверки на наличие дубликатов.\n",
    "\n",
    "        Returns:\n",
    "            bool: True, если в списке есть дубликаты, False в противном случае.\n",
    "        '''\n",
    "        return len(input_list) != len(set(input_list))\n",
    "    \n",
    "\n",
    "# Создаем экземпляр класса ListChecker\n",
    "checker = ListChecker()\n",
    "\n",
    "# Список для проверки на наличие дубликатов\n",
    "input_list = [1, 2, 3, 4, 5]\n",
    "# Проверяем список на наличие дубликатов\n",
    "print(checker.has_duplicates(input_list))  # Вывод: False\n",
    "\n",
    "# Изменяем список, добавляя дубликат\n",
    "input_list = [1, 2, 3, 4, 5, 5]\n",
    "# Проверяем измененный список на наличие дубликатов\n",
    "print(checker.has_duplicates(input_list))  # Вывод: True"
   ]
  }
 ],
 "metadata": {
  "kernelspec": {
   "display_name": "Python 3",
   "language": "python",
   "name": "python3"
  },
  "language_info": {
   "codemirror_mode": {
    "name": "ipython",
    "version": 3
   },
   "file_extension": ".py",
   "mimetype": "text/x-python",
   "name": "python",
   "nbconvert_exporter": "python",
   "pygments_lexer": "ipython3",
   "version": "3.11.2"
  }
 },
 "nbformat": 4,
 "nbformat_minor": 2
}
