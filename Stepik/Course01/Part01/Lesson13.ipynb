{
 "cells": [
  {
   "cell_type": "markdown",
   "metadata": {},
   "source": [
    "<link rel=\"stylesheet\" type=\"text/css\" href=\"../../styles/styles.css\">\n",
    "\n",
    "### 1.3 Методы"
   ]
  },
  {
   "cell_type": "code",
   "execution_count": 1,
   "metadata": {},
   "outputs": [
    {
     "name": "stdout",
     "output_type": "stream",
     "text": [
      "False\n",
      "True\n"
     ]
    }
   ],
   "source": [
    "# Класс \"Проверка списка\"\n",
    "class ListChecker:\n",
    "    @staticmethod\n",
    "    def has_duplicates(input_list):\n",
    "        '''\n",
    "        Проверяет наличие дубликатов в списке.\n",
    "\n",
    "        Args:\n",
    "            input_list (list): Список для проверки на наличие дубликатов.\n",
    "\n",
    "        Returns:\n",
    "            bool: True, если в списке есть дубликаты, False в противном случае.\n",
    "        '''\n",
    "        return len(input_list) != len(set(input_list))\n",
    "    \n",
    "\n",
    "# Пример использования класса\n",
    "checker = ListChecker()  # созданме объекта класса ListChecker\n",
    "\n",
    "# Список для проверки на наличие дубликатов\n",
    "input_list = [1, 2, 3, 4, 5]\n",
    "# Проверяем список на наличие дубликатов\n",
    "print(checker.has_duplicates(input_list))  # вывод: False\n",
    "\n",
    "# Изменяем список, добавляя дубликат\n",
    "input_list = [1, 2, 3, 4, 5, 5]\n",
    "# Проверяем измененный список на наличие дубликатов\n",
    "print(checker.has_duplicates(input_list))  # вывод: True"
   ]
  },
  {
   "cell_type": "code",
   "execution_count": 7,
   "metadata": {},
   "outputs": [
    {
     "name": "stdout",
     "output_type": "stream",
     "text": [
      "Перевернутая строка: !dlrow ,olleH\n"
     ]
    }
   ],
   "source": [
    "# Класс \"Операции со строками\"\n",
    "class StringManipulator:\n",
    "    @staticmethod\n",
    "    def StringInverse(input_string):\n",
    "        '''\n",
    "        Переворачивает строку.\n",
    "\n",
    "        Args:\n",
    "            input_string (str): Входная строка.\n",
    "\n",
    "        Returns:\n",
    "            str: Перевернутая версия входной строки.\n",
    "        '''\n",
    "        return input_string[::-1]\n",
    "    \n",
    "\n",
    "# Пример использования класса\n",
    "string_manipulator = StringManipulator()  # созданме объекта класса StringManipulator\n",
    "\n",
    "# Вызываем метод StringInverse для переворота строки\n",
    "input_string = 'Hello, world!'\n",
    "reversed_string = string_manipulator.StringInverse(input_string)\n",
    "# Выводим результат\n",
    "print('Перевернутая строка:', reversed_string)"
   ]
  },
  {
   "cell_type": "code",
   "execution_count": 10,
   "metadata": {},
   "outputs": [
    {
     "name": "stdout",
     "output_type": "stream",
     "text": [
      "Иван говорит привет\n"
     ]
    }
   ],
   "source": [
    "# Класс \"Студент\"\n",
    "class Student:\n",
    "    # ВМагический метод инициализации экземпляра класса\n",
    "    def __init__(self, name):\n",
    "        self.name = name\n",
    "    \n",
    "    # Метод выводящий приветствие объекта\n",
    "    def greet(self):\n",
    "        print(f'{self.name} говорит привет')\n",
    "\n",
    "# Пример использования класса\n",
    "student = Student('Иван')  # cоздание объекта класса Student с именем \"Иван\"\n",
    "# Вызываем метод greet\n",
    "student.greet()  # вывод: Иван говорит привет"
   ]
  },
  {
   "cell_type": "code",
   "execution_count": 11,
   "metadata": {},
   "outputs": [
    {
     "name": "stdout",
     "output_type": "stream",
     "text": [
      "10 миль равно 16.0934 километрам\n"
     ]
    }
   ],
   "source": [
    "# Класс \"Конвертер миль\"\n",
    "class Converter:\n",
    "    @staticmethod\n",
    "    def convert_miles_to_kilometers(miles):\n",
    "        ''''\n",
    "        Конвертирует мили в километры.\n",
    "\n",
    "        Args:\n",
    "            miles (float): Расстояние в милях.\n",
    "\n",
    "        Returns:\n",
    "            float: Расстояние, сконвертированное в километры.\n",
    "        '''\n",
    "        return miles * 1.60934\n",
    "\n",
    "\n",
    "# Пример вызова статического метода для конвертации миль в километры\n",
    "distance_in_miles = 10\n",
    "distance_in_kilometers = Converter.convert_miles_to_kilometers(distance_in_miles)\n",
    "print(f'{distance_in_miles} миль равно {distance_in_kilometers} километрам')"
   ]
  },
  {
   "cell_type": "code",
   "execution_count": 15,
   "metadata": {},
   "outputs": [
    {
     "name": "stdout",
     "output_type": "stream",
     "text": [
      "Общая стоимость заказа номер 15: 600 рублей\n"
     ]
    }
   ],
   "source": [
    "# Класс \"Заказ\"\n",
    "class Order:\n",
    "    def __init__(self, number):\n",
    "        self.number = number    # номер заказа\n",
    "        self.items = {}         # названия товаров с ценами\n",
    "    \n",
    "    def add_item(self, item, price):\n",
    "        '''\n",
    "        Добавляет товар в заказ.\n",
    "\n",
    "        Args:\n",
    "            item (str): Название товара.\n",
    "            price (float): Цена товара.\n",
    "        '''\n",
    "        self.items[item] = price\n",
    "    \n",
    "    def calculate_total(self):\n",
    "        '''\n",
    "        Вычисляет общую стоимость заказа.\n",
    "\n",
    "        Returns:\n",
    "            float: Общая стоимость заказа.\n",
    "        '''\n",
    "        total = sum(self.items.values())\n",
    "        \n",
    "        return total\n",
    "    \n",
    "\n",
    "# Пример использования класса\n",
    "order = Order(15)  # создание объекта класса Order с номером 15\n",
    "\n",
    "# Добавляем товары в заказ\n",
    "order.add_item(\"Товар 1\", 100)\n",
    "order.add_item(\"Товар 2\", 200)\n",
    "order.add_item(\"Товар 3\", 300)\n",
    "\n",
    "# Вычисляем общую стоимость заказа\n",
    "total_cost = order.calculate_total()\n",
    "print(f'Общая стоимость заказа номер {order.number}: {total_cost} рублей')"
   ]
  },
  {
   "cell_type": "code",
   "execution_count": 16,
   "metadata": {},
   "outputs": [
    {
     "name": "stdout",
     "output_type": "stream",
     "text": [
      "Фигура 1: GeometricShape(5, 3)\n",
      "Площадь: 15\n",
      "Периметр: 16\n",
      "Это прямоугольник? Да\n",
      "\n",
      "Фигура 2: GeometricShape(4, 4)\n",
      "Это прямоугольник? Нет\n"
     ]
    }
   ],
   "source": [
    "# Класс \"Геометрическая фигура\"\n",
    "class GeometricShape:\n",
    "    # Магический метод инициализации экземпляра класса\n",
    "    def __init__(self, width, height):\n",
    "        '''\n",
    "        Инициализация объекта прямоугольника.\n",
    "\n",
    "        Args:\n",
    "            width (float): Ширина прямоугольника.\n",
    "            height (float): Высота прямоугольника.\n",
    "        '''\n",
    "        self.width = width\n",
    "        self.height = height\n",
    "\n",
    "    # Метод вычисления площади фигуры\n",
    "    def area(self):\n",
    "        '''\n",
    "        Вычисляет площадь прямоугольника.\n",
    "\n",
    "        Returns:\n",
    "            float: Площадь прямоугольника.\n",
    "        '''\n",
    "        return self.width * self.height\n",
    "\n",
    "    # Метод вычисления периметра фигуры\n",
    "    def perimeter(self):\n",
    "        '''\n",
    "        Вычисляет периметр прямоугольника.\n",
    "\n",
    "        Returns:\n",
    "            float: Периметр прямоугольника.\n",
    "        '''\n",
    "        return 2 * (self.width + self.height)\n",
    "\n",
    "    # Статический метод проверки геометрического типа фигуры\n",
    "    @staticmethod\n",
    "    def is_rectangle(shape):\n",
    "        '''\n",
    "        Проверяет, является ли переданный объект прямоугольником.\n",
    "\n",
    "        Args:\n",
    "            shape (GeometricShape): Объект, который нужно проверить.\n",
    "\n",
    "        Returns:\n",
    "            bool: True, если объект является прямоугольником, False в противном случае.\n",
    "        '''\n",
    "        return isinstance(shape, GeometricShape) and shape.width == shape.height\n",
    "\n",
    "    # Статический метод класса для создания квадрата\n",
    "    @classmethod\n",
    "    def create_square(cls, side_length):\n",
    "        '''\n",
    "        Создает квадрат.\n",
    "\n",
    "        Args:\n",
    "            side_length (float): Длина стороны квадрата.\n",
    "\n",
    "        Returns:\n",
    "            GeometricShape: Объект квадрата.\n",
    "        '''\n",
    "        return cls(side_length, side_length)\n",
    "\n",
    "    # Магический метод строкового представления объекта\n",
    "    def __str__(self):\n",
    "        '''\n",
    "        Представляет объект в виде строки.\n",
    "\n",
    "        Returns:\n",
    "            str: Строковое представление объекта.\n",
    "        '''\n",
    "        return f'GeometricShape({self.width}, {self.height})'\n",
    "\n",
    "\n",
    "# Пример использования класса\n",
    "rectangle = GeometricShape(5, 3)  # создание объекта класса Rectangle\n",
    "\n",
    "# Выводим представления объекта в виде строки\n",
    "print('Фигура 1:', rectangle)  # вывод: GeometricShape(5, 3)\n",
    "\n",
    "# Вызов обычных методов\n",
    "print('Площадь:', rectangle.area())         # вывод площади\n",
    "print('Периметр:', rectangle.perimeter())   # вывод периметра\n",
    "\n",
    "# Вызов статического метода\n",
    "print('Это прямоугольник?', ['Да', 'Нет'][GeometricShape.is_rectangle(rectangle)])  # проверка, является ли объект прямоугольником\n",
    "print()\n",
    "\n",
    "# Создание квадрата с использованием метода класса\n",
    "square = GeometricShape.create_square(4)\n",
    "\n",
    "# Выводим представления объекта в виде строки\n",
    "print('Фигура 2:', square)  # вывод: GeometricShape(4, 4)\n",
    "\n",
    "# Вызов статического метода\n",
    "print('Это прямоугольник?', ['Да', 'Нет'][GeometricShape.is_rectangle(square)])  # проверка, является ли объект прямоугольником"
   ]
  },
  {
   "cell_type": "code",
   "execution_count": 11,
   "metadata": {},
   "outputs": [
    {
     "name": "stdout",
     "output_type": "stream",
     "text": [
      "Фигура 1: GeometricShape(5, 3)\n",
      "Фигура 2: GeometricShape(4, 4)\n",
      "Площадь фигур равна? Нет\n",
      "Суммарная фигура: GeometricShape(9, 7)\n"
     ]
    }
   ],
   "source": [
    "# Класс \"Геометрическая фигура\" (расширенный)\n",
    "class GeometricShape:\n",
    "    # Встроенный метод инициализации экземпляра класса\n",
    "    def __init__(self, width, height):\n",
    "        self.width = width\n",
    "        self.height = height\n",
    "\n",
    "    # Встроенный метод строкового представления объекта\n",
    "    def __str__(self):\n",
    "        return f'GeometricShape({self.width}, {self.height})'\n",
    "    \n",
    "    # Встроенный метод перегрузки оператора равенства (==)\n",
    "    def __eq__(self, other):\n",
    "        if not isinstance(other, GeometricShape):\n",
    "            raise TypeError('Сравнение объектов разных классов не поддерживается')\n",
    "        return self.area() == other.area()\n",
    "\n",
    "    # Встроенный метод перегрузки оператора сложения (+) \n",
    "    def __add__(self, other):\n",
    "        if not isinstance(other, GeometricShape):\n",
    "            raise TypeError('Складывать можно только объекты класса GeometricShape')\n",
    "        new_width = self.width + other.width\n",
    "        new_height = self.height + other.height\n",
    "        return GeometricShape(new_width, new_height)\n",
    "    \n",
    "    # Статический метод проверки геометрического типа фигуры\n",
    "    @staticmethod\n",
    "    def is_rectangle(shape):\n",
    "        return isinstance(shape, GeometricShape) and shape.width == shape.height\n",
    "\n",
    "    # Метод класса для создания квадрата\n",
    "    @classmethod\n",
    "    def create_square(cls, side_length):\n",
    "        return cls(side_length, side_length)\n",
    "    \n",
    "    # Метод вычисления площади фигуры\n",
    "    def area(self):\n",
    "        return self.width * self.height\n",
    "\n",
    "    # Метод вычисления периметра фигуры\n",
    "    def perimeter(self):\n",
    "        return 2 * (self.width + self.height)\n",
    "\n",
    "\n",
    "# Пример использования класса\n",
    "# Создание двух объектов класса GeometricShape\n",
    "rectangle1 = GeometricShape(5, 3)\n",
    "rectangle2 = GeometricShape(4, 4)\n",
    "\n",
    "# Выводим представления объекта в виде строки\n",
    "print('Фигура 1:', rectangle1)  # вывод: GeometricShape(5, 3)\n",
    "print('Фигура 2:', rectangle2)  # вывод: GeometricShape(4, 4)\n",
    "\n",
    "# Сравнение фигур по площади\n",
    "print('Площадь фигур равна?', ['Нет', 'Да'][rectangle1 == rectangle2])\n",
    "\n",
    "# Сложение двух фигур\n",
    "resulting_shape = rectangle1 + rectangle2\n",
    "print('Суммарная фигура:', resulting_shape)"
   ]
  }
 ],
 "metadata": {
  "kernelspec": {
   "display_name": "Python 3",
   "language": "python",
   "name": "python3"
  },
  "language_info": {
   "codemirror_mode": {
    "name": "ipython",
    "version": 3
   },
   "file_extension": ".py",
   "mimetype": "text/x-python",
   "name": "python",
   "nbconvert_exporter": "python",
   "pygments_lexer": "ipython3",
   "version": "3.11.2"
  }
 },
 "nbformat": 4,
 "nbformat_minor": 2
}
