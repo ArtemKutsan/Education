{
 "cells": [
  {
   "cell_type": "markdown",
   "metadata": {},
   "source": [
    "<link rel=\"stylesheet\" type=\"text/css\" href=\"../../styles/styles.css\">\n",
    "\n",
    "### 1.3 Методы"
   ]
  },
  {
   "cell_type": "code",
   "execution_count": 1,
   "metadata": {},
   "outputs": [
    {
     "name": "stdout",
     "output_type": "stream",
     "text": [
      "False\n",
      "True\n"
     ]
    }
   ],
   "source": [
    "# Класс \"Дубликаты в списке\"\n",
    "class ListChecker:\n",
    "    @staticmethod\n",
    "    def has_duplicates(input_list):\n",
    "        '''\n",
    "        Проверяет наличие дубликатов в списке.\n",
    "\n",
    "        Args:\n",
    "            input_list (list): Список для проверки на наличие дубликатов.\n",
    "\n",
    "        Returns:\n",
    "            bool: True, если в списке есть дубликаты, False в противном случае.\n",
    "        '''\n",
    "        return len(input_list) != len(set(input_list))\n",
    "    \n",
    "\n",
    "# Создаем экземпляр класса ListChecker\n",
    "checker = ListChecker()\n",
    "\n",
    "# Список для проверки на наличие дубликатов\n",
    "input_list = [1, 2, 3, 4, 5]\n",
    "# Проверяем список на наличие дубликатов\n",
    "print(checker.has_duplicates(input_list))  # вывод: False\n",
    "\n",
    "# Изменяем список, добавляя дубликат\n",
    "input_list = [1, 2, 3, 4, 5, 5]\n",
    "# Проверяем измененный список на наличие дубликатов\n",
    "print(checker.has_duplicates(input_list))  # вывод: True"
   ]
  },
  {
   "cell_type": "code",
   "execution_count": 7,
   "metadata": {},
   "outputs": [
    {
     "name": "stdout",
     "output_type": "stream",
     "text": [
      "Перевернутая строка: !dlrow ,olleH\n"
     ]
    }
   ],
   "source": [
    "# Класс \"Операции со строками\"\n",
    "class StringManipulator:\n",
    "    @staticmethod\n",
    "    def StringInverse(input_string):\n",
    "        '''\n",
    "        Переворачивает строку.\n",
    "\n",
    "        Args:\n",
    "            input_string (str): Входная строка.\n",
    "\n",
    "        Returns:\n",
    "            str: Перевернутая версия входной строки.\n",
    "        '''\n",
    "        return input_string[::-1]\n",
    "    \n",
    "\n",
    "# Создаем экземпляр класса StringManipulator\n",
    "string_manipulator = StringManipulator()\n",
    "\n",
    "# Вызываем метод StringInverse для переворота строки\n",
    "input_string = 'Hello, world!'\n",
    "reversed_string = string_manipulator.StringInverse(input_string)\n",
    "# Выводим результат\n",
    "print('Перевернутая строка:', reversed_string)"
   ]
  },
  {
   "cell_type": "code",
   "execution_count": 10,
   "metadata": {},
   "outputs": [
    {
     "name": "stdout",
     "output_type": "stream",
     "text": [
      "Иван говорит привет\n"
     ]
    }
   ],
   "source": [
    "# Класс \"Студент\"\n",
    "class Student:\n",
    "    # Встроенный метод инициализации экземпляра класса\n",
    "    def __init__(self, name):\n",
    "        self.name = name\n",
    "    \n",
    "    def greet(self):\n",
    "        print(f'{self.name} говорит привет')\n",
    "\n",
    "# Создаем экземпляр класса Student с именем \"Иван\"\n",
    "student = Student('Иван')\n",
    "# Вызываем метод greet\n",
    "student.greet()  # вывод: Иван говорит привет"
   ]
  }
 ],
 "metadata": {
  "kernelspec": {
   "display_name": "Python 3",
   "language": "python",
   "name": "python3"
  },
  "language_info": {
   "codemirror_mode": {
    "name": "ipython",
    "version": 3
   },
   "file_extension": ".py",
   "mimetype": "text/x-python",
   "name": "python",
   "nbconvert_exporter": "python",
   "pygments_lexer": "ipython3",
   "version": "3.11.2"
  }
 },
 "nbformat": 4,
 "nbformat_minor": 2
}
