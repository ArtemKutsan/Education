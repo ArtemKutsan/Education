{
 "cells": [
  {
   "cell_type": "markdown",
   "metadata": {},
   "source": [
    "<link rel=\"stylesheet\" type=\"text/css\" href=\"../../styles/styles.css\">\n",
    "\n",
    "### 2.4 Абстрактные классы"
   ]
  },
  {
   "cell_type": "code",
   "execution_count": 1,
   "metadata": {},
   "outputs": [],
   "source": [
    "# Импорт классов и методов для работы с абстрактными классами\n",
    "from abc import ABC, abstractmethod"
   ]
  },
  {
   "cell_type": "code",
   "execution_count": 2,
   "metadata": {},
   "outputs": [],
   "source": [
    "# Абстрактный класс \"Животное\"\n",
    "class Animal(ABC):\n",
    "    # Абстрактный метод (метод без реализации)\n",
    "    @abstractmethod\n",
    "    def make_sound(self):\n",
    "        pass"
   ]
  },
  {
   "cell_type": "code",
   "execution_count": null,
   "metadata": {},
   "outputs": [],
   "source": [
    "# Класс \"Собака\" наследуется от абстрактного класса \"Животное\"\n",
    "class Dog(Animal):\n",
    "    # Реализация абстрактного метода класса родителя (звук издаваемый собакой)\n",
    "    def make_sound(self):\n",
    "        print(\"Woof!\")"
   ]
  },
  {
   "cell_type": "code",
   "execution_count": null,
   "metadata": {},
   "outputs": [],
   "source": [
    "# Класс \"Кошка\" наследуется от абстрактного класса \"Животное\"\n",
    "class Cat(Animal):\n",
    "    # Реализация абстрактного метода класса родителя (звук издаваемый кошкой)\n",
    "    def make_sound(self):\n",
    "        print(\"Meow!\")"
   ]
  },
  {
   "cell_type": "code",
   "execution_count": null,
   "metadata": {},
   "outputs": [],
   "source": [
    "# Пример использования абстрактных классов и методов\n",
    "\n",
    "# Нельзя создать экземпляр абстрактного класса\n",
    "# animal = Animal()  # Ошибка: TypeError\n",
    "\n",
    "dog = Dog()\n",
    "dog.make_sound()  # Вывод: Woof!\n",
    "\n",
    "cat = Cat()\n",
    "cat.make_sound()  # Вывод: Meow!"
   ]
  }
 ],
 "metadata": {
  "kernelspec": {
   "display_name": "Python 3",
   "language": "python",
   "name": "python3"
  },
  "language_info": {
   "codemirror_mode": {
    "name": "ipython",
    "version": 3
   },
   "file_extension": ".py",
   "mimetype": "text/x-python",
   "name": "python",
   "nbconvert_exporter": "python",
   "pygments_lexer": "ipython3",
   "version": "3.11.2"
  }
 },
 "nbformat": 4,
 "nbformat_minor": 2
}
