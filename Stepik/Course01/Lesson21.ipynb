{
 "cells": [
  {
   "cell_type": "markdown",
   "metadata": {},
   "source": [
    "<link rel=\"stylesheet\" type=\"text/css\" href=\"../../styles/styles.css\">\n",
    "\n",
    "### 2.1 Наследование, инкапсуляция и полиморфизм"
   ]
  },
  {
   "cell_type": "code",
   "execution_count": 5,
   "metadata": {},
   "outputs": [],
   "source": [
    "# Импорт библиотек\n",
    "import math"
   ]
  },
  {
   "cell_type": "code",
   "execution_count": 6,
   "metadata": {},
   "outputs": [],
   "source": [
    "# Класс \"Фигура\"\n",
    "class Shape:\n",
    "    # Мтод вычисления площади\n",
    "    def calculate_area(self):\n",
    "        pass\n",
    "\n",
    "    # Метод вычисления периметра\n",
    "    def calculate_perimeter(self):\n",
    "        pass"
   ]
  },
  {
   "cell_type": "code",
   "execution_count": 7,
   "metadata": {},
   "outputs": [],
   "source": [
    "# Подкласс \"Прямоугольник\" класса \"Фигура\"\n",
    "class Rectangle(Shape):\n",
    "    def __init__(self, length, width):\n",
    "        self.length = length\n",
    "        self.width = width\n",
    "\n",
    "    # Переопределяем метод вычисления площади класса-родителя\n",
    "    def calculate_area(self):\n",
    "        area = self.length * self.width\n",
    "        return area\n",
    "\n",
    "    # Переопределяем метод вычисления периметра класса-родителя\n",
    "    def calculate_perimeter(self):\n",
    "        perimeter = 2 * (self.length + self.width)\n",
    "        return perimeter"
   ]
  },
  {
   "cell_type": "code",
   "execution_count": 8,
   "metadata": {},
   "outputs": [],
   "source": [
    "# Подкласс \"Окружность\" класса \"Фигура\"\n",
    "class Circle(Shape):\n",
    "    def __init__(self, radius):\n",
    "        self.radius = radius\n",
    "\n",
    "    # Переопределяем метод вычисления площади класса-родителя\n",
    "    def calculate_area(self):\n",
    "        area = math.pi * self.radius**2\n",
    "        return area\n",
    "\n",
    "    # Переопределяем метод вычисления периметра класса-родителя\n",
    "    def calculate_perimeter(self):\n",
    "        perimeter = 2 * math.pi * self.radius\n",
    "        return perimeter"
   ]
  },
  {
   "cell_type": "code",
   "execution_count": 12,
   "metadata": {},
   "outputs": [
    {
     "name": "stdout",
     "output_type": "stream",
     "text": [
      "Тесты пройдены успешно!\n"
     ]
    }
   ],
   "source": [
    "# Пример использования подклассов \"Прямоугольник\" и \"Окружность\"\n",
    "'''\n",
    "assert - это оператор в Python, который используется для проверки условий. \n",
    "Если условие оценивается как False, то он вызывает исключение AssertionError. \n",
    "Если условие оценивается как True, то программа продолжает выполнение без изменений.\n",
    "'''\n",
    "rectangle = Rectangle(5, 7)\n",
    "assert rectangle.calculate_area() == 35\n",
    "assert rectangle.calculate_perimeter() == 24\n",
    "\n",
    "circle = Circle(3)\n",
    "assert round(circle.calculate_area(), 2) == 28.27\n",
    "assert round(circle.calculate_perimeter(), 2) == 18.85\n",
    "\n",
    "print('Тесты пройдены успешно!')"
   ]
  },
  {
   "cell_type": "code",
   "execution_count": 1,
   "metadata": {},
   "outputs": [
    {
     "name": "stdout",
     "output_type": "stream",
     "text": [
      "Marusa says Meow\n",
      "Rikki says Woof\n"
     ]
    }
   ],
   "source": [
    "# Класс \"Животное\"\n",
    "class Animal:\n",
    "    def __init__(self,name):\n",
    "        self.name=name\n",
    "\n",
    "    def sound(self):\n",
    "        pass\n",
    "\n",
    "class Cat(Animal):\n",
    "    def sound(self):\n",
    "        print(self.name, 'says Meow')\n",
    "\n",
    "class Dog(Animal):\n",
    "    def sound(self):\n",
    "        print(self.name, 'says Woof')"
   ]
  },
  {
   "cell_type": "code",
   "execution_count": null,
   "metadata": {},
   "outputs": [],
   "source": [
    "# Полиморфизм через методы\n",
    "def make_sound(animal):\n",
    "    '''\n",
    "    Полиморфизм - это принцип объектно-ориентированного программирования, \n",
    "    который позволяет объектам разных классов иметь одинаковые методы, но с разной \n",
    "    реализацией. В примере полиморфизм проявляется в методе make_sound(), который принимает \n",
    "    объекты разных классов (Cat и Dog) в качестве аргументов и вызывает у них метод sound().\n",
    "    Хотя оба класса Cat и Dog имеют метод sound(), их реализации отличаются: у кота звук \n",
    "    \"Мяу\", а у собаки \"Гав\". В то время как метод make_sound() не знает конкретный тип \n",
    "    объекта, передаваемого ему, он все равно может вызвать метод sound(), и правильное \n",
    "    поведение будет обеспечено благодаря полиморфизму.\n",
    "    Таким образом, при вызове make_sound(cat) он вызовет метод sound() для объекта cat, \n",
    "    который принадлежит классу Cat, и выведет \"Marusa says Meow\". Аналогично, при вызове \n",
    "    make_sound(dog) он вызовет метод sound() для объекта dog, который принадлежит классу Dog, \n",
    "    и выведет \"Rikki says Woof\".\n",
    "    '''\n",
    "    animal.sound()\n",
    "\n",
    "\n",
    "cat = Cat('Marusa')\n",
    "dog = Dog('Rikki')\n",
    "\n",
    "make_sound(cat)  # Вывод: Marusa says Meow\n",
    "make_sound(dog)  # Вывод: Rikki says Woof"
   ]
  },
  {
   "cell_type": "code",
   "execution_count": 3,
   "metadata": {},
   "outputs": [],
   "source": [
    "# Класс \"Животное\"\n",
    "class Animal:\n",
    "    def speak(self):\n",
    "        pass\n",
    "\n",
    "class Dog(Animal):\n",
    "    def speak(self):\n",
    "        return 'Woof!'\n",
    "\n",
    "class Cat(Animal):\n",
    "    def speak(self):\n",
    "        return 'Meow!'\n",
    "\n",
    "class Cow(Animal):\n",
    "    pass"
   ]
  },
  {
   "cell_type": "code",
   "execution_count": 4,
   "metadata": {},
   "outputs": [
    {
     "name": "stdout",
     "output_type": "stream",
     "text": [
      "Woof!\n",
      "Meow!\n",
      "None\n"
     ]
    }
   ],
   "source": [
    "# Полиморфизм через интерфейсы\n",
    "animals = [Dog(), Cat(), Cow()]\n",
    "\n",
    "for animal in animals:\n",
    "    print(animal.speak())\n",
    "\n",
    "# Вывод:\n",
    "# Woof!\n",
    "# Meow!\n",
    "# None (так как метод не переопределен)"
   ]
  }
 ],
 "metadata": {
  "kernelspec": {
   "display_name": "Python 3",
   "language": "python",
   "name": "python3"
  },
  "language_info": {
   "codemirror_mode": {
    "name": "ipython",
    "version": 3
   },
   "file_extension": ".py",
   "mimetype": "text/x-python",
   "name": "python",
   "nbconvert_exporter": "python",
   "pygments_lexer": "ipython3",
   "version": "3.11.2"
  }
 },
 "nbformat": 4,
 "nbformat_minor": 2
}
