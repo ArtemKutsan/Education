{
 "cells": [
  {
   "cell_type": "markdown",
   "metadata": {},
   "source": [
    "<link rel=\"stylesheet\" type=\"text/css\" href=\"../styles/styles.css\">\n",
    "\n",
    "### 4.5 Работа с zip файлами"
   ]
  },
  {
   "cell_type": "code",
   "execution_count": 2,
   "metadata": {},
   "outputs": [
    {
     "name": "stdout",
     "output_type": "stream",
     "text": [
      "File Name                                             Modified             Size\n",
      "test/                                          2021-11-27 12:47:10            0\n",
      "test/Картинки/                                 2021-11-27 12:49:02            0\n",
      "test/Картинки/1.jpg                            2021-09-02 12:30:20        90156\n",
      "test/Картинки/avatar.png                       2021-08-20 09:38:44        19053\n",
      "test/Картинки/certificate.png                  2021-10-23 09:46:36        43699\n",
      "test/Картинки/py.png                           2021-07-28 17:55:56        33522\n",
      "test/Картинки/World_Time_Zones_Map.png         2021-11-08 07:30:06      2324421\n",
      "test/Картинки/Снимок экрана.png                2021-10-01 20:47:02        10878\n",
      "test/Неравенства.djvu                          2021-08-19 08:39:06      5283010\n",
      "test/Программы/                                2021-11-27 12:48:20            0\n",
      "test/Программы/image_util.py                   2021-11-18 12:42:22         4955\n",
      "test/Программы/sort.py                         2021-11-14 19:31:02           61\n",
      "test/Разные файлы/                             2021-11-27 12:48:10            0\n",
      "test/Разные файлы/astros.json                  2021-11-08 09:29:58          505\n",
      "2324421\n",
      "2322032\n",
      "test/Картинки/World_Time_Zones_Map.png\n",
      "(2021, 11, 8, 7, 30, 6)\n"
     ]
    }
   ],
   "source": [
    "from zipfile import ZipFile\n",
    "\n",
    "with ZipFile('test.zip') as zip_file:\n",
    "    zip_file.printdir()\n",
    "\n",
    "    info = zip_file.infolist()\n",
    "    print(info[6].file_size)                # размер начального файла в байтах\n",
    "    print(info[6].compress_size)            # размер сжатого файла в байтах\n",
    "    print(info[6].filename)                 # имя файла\n",
    "    print(info[6].date_time)                # дата изменения файла"
   ]
  }
 ],
 "metadata": {
  "kernelspec": {
   "display_name": "Python 3",
   "language": "python",
   "name": "python3"
  },
  "language_info": {
   "codemirror_mode": {
    "name": "ipython",
    "version": 3
   },
   "file_extension": ".py",
   "mimetype": "text/x-python",
   "name": "python",
   "nbconvert_exporter": "python",
   "pygments_lexer": "ipython3",
   "version": "3.11.2"
  }
 },
 "nbformat": 4,
 "nbformat_minor": 2
}
