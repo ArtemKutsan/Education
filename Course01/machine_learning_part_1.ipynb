{
 "cells": [
  {
   "cell_type": "code",
   "execution_count": 10,
   "metadata": {},
   "outputs": [
    {
     "name": "stdout",
     "output_type": "stream",
     "text": [
      "Q = 0.9250026294525024\n"
     ]
    }
   ],
   "source": [
    "import numpy as np\n",
    "\n",
    "def func(x):\n",
    "    return 0.5 * x**2 - 0.1 * 1/np.exp(-x) + 0.5 * np.cos(2*x) - 2.\n",
    "\n",
    "def a(x, w):\n",
    "    return w[0] + w[1] * x + w[2] * x**2 + w[3] * np.cos(2*x) + w[4] * np.sin(2*x)\n",
    "\n",
    "coord_x = np.arange(-5.0, 5.0, 0.1) # значения отсчетов по оси абсцисс\n",
    "coord_y = func(coord_x) # значения функции по оси ординат\n",
    "\n",
    "sz = len(coord_x) # общее число отсчетов\n",
    "\n",
    "w = np.array([-1.59, -0.69, 0.278, 0.497, -0.106])\n",
    "Q = np.sum(np.abs(a(coord_x, w) - coord_y)) / sz\n",
    "# print(f'Q = {Q}')"
   ]
  },
  {
   "cell_type": "code",
   "execution_count": 226,
   "metadata": {},
   "outputs": [
    {
     "name": "stdout",
     "output_type": "stream",
     "text": [
      "w = [-3.313070620936521, 0.006174531035906039, 1.9537026894926461]\n"
     ]
    }
   ],
   "source": [
    "import numpy as np\n",
    "\n",
    "data_x = [(5.8, 1.2), (5.6, 1.5), (6.5, 1.5), (6.1, 1.3), (6.4, 1.3), (7.7, 2.0), (6.0, 1.8), \n",
    "          (5.6, 1.3), (6.0, 1.6), (5.8, 1.9), (5.7, 2.0), (6.3, 1.5), (6.2, 1.8), (7.7, 2.3), \n",
    "          (5.8, 1.2), (6.3, 1.8), (6.0, 1.0), (6.2, 1.3), (5.7, 1.3), (6.3, 1.9), (6.7, 2.5), \n",
    "          (5.5, 1.2), (4.9, 1.0), (6.1, 1.4), (6.0, 1.6), (7.2, 2.5), (7.3, 1.8), (6.6, 1.4), \n",
    "          (5.6, 2.0), (5.5, 1.0), (6.4, 2.2), (5.6, 1.3), (6.6, 1.3), (6.9, 2.1), (6.8, 2.1), \n",
    "          (5.7, 1.3), (7.0, 1.4), (6.1, 1.4), (6.1, 1.8), (6.7, 1.7), (6.0, 1.5), (6.5, 1.8), \n",
    "          (6.4, 1.5), (6.9, 1.5), (5.6, 1.3), (6.7, 1.4), (5.8, 1.9), (6.3, 1.3), (6.7, 2.1), \n",
    "          (6.2, 2.3), (6.3, 2.4), (6.7, 1.8), (6.4, 2.3), (6.2, 1.5), (6.1, 1.4), (7.1, 2.1), \n",
    "          (5.7, 1.0), (6.8, 1.4), (6.8, 2.3), (5.1, 1.1), (4.9, 1.7), (5.9, 1.8), (7.4, 1.9), \n",
    "          (6.5, 2.0), (6.7, 1.5), (6.5, 2.0), (5.8, 1.0), (6.4, 2.1), (7.6, 2.1), (5.8, 2.4), \n",
    "          (7.7, 2.2), (6.3, 1.5), (5.0, 1.0), (6.3, 1.6), (7.7, 2.3), (6.4, 1.9), (6.5, 2.2), \n",
    "          (5.7, 1.2), (6.9, 2.3), (5.7, 1.3), (6.1, 1.2), (5.4, 1.5), (5.2, 1.4), (6.7, 2.3), \n",
    "          (7.9, 2.0), (5.6, 1.1), (7.2, 1.8), (5.5, 1.3), (7.2, 1.6), (6.3, 2.5), (6.3, 1.8), \n",
    "          (6.7, 2.4), (5.0, 1.0), (6.4, 1.8), (6.9, 2.3), (5.5, 1.3), (5.5, 1.1), (5.9, 1.5), \n",
    "          (6.0, 1.5), (5.9, 1.8)]\n",
    "\n",
    "data_y = [-1, -1, -1, -1, -1, 1, 1, -1, -1, 1, 1, -1, 1, 1, -1, 1, -1, -1, -1, 1, \n",
    "          1, -1, -1, -1, -1, 1, 1, -1, 1, -1, 1, -1, -1, 1, 1, -1, -1, 1, 1, -1, \n",
    "          1, 1, -1, -1, -1, -1, 1, -1, 1, 1, 1, 1, 1, -1, -1, 1, -1, -1, 1, -1, 1, \n",
    "          -1, 1, 1, -1, 1, -1, 1, 1, 1, 1, 1, -1, -1, 1, 1, 1, -1, 1, -1, -1, -1, \n",
    "          -1, 1, 1, -1, 1, -1, 1, 1, 1, 1, -1, 1, 1, -1, -1, -1, -1, 1]\n",
    "\n",
    "# Добавляем единичный столбец для смещения (w0)\n",
    "X = np.array([[1, x1, x2] for x1, x2 in data_x])\n",
    "y = np.array(data_y)\n",
    "\n",
    "# Вычисляем параметры w\n",
    "w = np.sum(X.T * y, axis=1) @ np.linalg.inv(X.T @ X)\n",
    "print(f'w = {list(w)}')"
   ]
  },
  {
   "cell_type": "code",
   "execution_count": 6,
   "metadata": {},
   "outputs": [
    {
     "name": "stdout",
     "output_type": "stream",
     "text": [
      "x = -1.0758987284245605\n"
     ]
    }
   ],
   "source": [
    "import numpy as np\n",
    "\n",
    "def func(x):\n",
    "    return 0.5 * x + 0.2 * x ** 2 - 0.1 * x ** 3\n",
    "\n",
    "def df(x):\n",
    "    return 0.5 + 0.4 * x - 0.3 * x ** 2\n",
    "\n",
    "coord_x = np.arange(-5.0, 5.0, 0.1)  # значения по оси абсцисс\n",
    "coord_y = func(coord_x)  # значения по оси ординат (значения функции)\n",
    "\n",
    "# Начальные параметры\n",
    "eta = 0.01  # шаг градиентного спуска\n",
    "x = -4  # начальное значение x0\n",
    "N = 200  # количество итераций\n",
    "\n",
    "for n in range(N):\n",
    "    x -= eta * df(x)\n",
    "\n",
    "# print(f'x = {x}')"
   ]
  },
  {
   "cell_type": "code",
   "execution_count": 116,
   "metadata": {},
   "outputs": [
    {
     "name": "stdout",
     "output_type": "stream",
     "text": [
      "w = [4.986457387535088, -0.41780963958067896, 0.10273087874160171, 0.031724695628790815]\n",
      "Q = 0.13061463936073706\n"
     ]
    }
   ],
   "source": [
    "import numpy as np\n",
    "\n",
    "# Исходная функция, которую нужно аппроксимировать моделью a(x, w)\n",
    "def func(x):\n",
    "    return 0.1 * x**2 - np.sin(x) + 5.\n",
    "\n",
    "# Функция аппроксимации\n",
    "def a(X, w):\n",
    "    return X @ w\n",
    "\n",
    "# Вычисление градиента\n",
    "def gradient(X, y, w):\n",
    "    return 2 * np.mean((X @ w - y).reshape(-1, 1) * X, axis=0)\n",
    "\n",
    "# Начальные значения\n",
    "coord_x = np.arange(-5.0, 5.0, 0.1)  # значения по оси абсцисс [-5; 5] с шагом 0.1\n",
    "coord_y = func(coord_x)  # значения функции по оси ординат\n",
    "\n",
    "X = np.array([[1, x, x**2, x**3] for x in coord_x])\n",
    "y = coord_y\n",
    "\n",
    "eta = np.array([0.1, 0.01, 0.001, 0.0001])  # шаг обучения для каждого параметра w0, w1, w2, w3\n",
    "w = np.array([0., 0., 0., 0.])  # начальные значения параметров модели\n",
    "N = 200  # число итераций градиентного алгоритма\n",
    "\n",
    "# Градиентный спуск\n",
    "for n in range(N):\n",
    "    w -= eta * gradient(X, y, w)\n",
    "\n",
    "Q = np.mean(np.square(a(X, w) - y))\n",
    "print(f'w = {list(w)}\\nQ = {Q}')"
   ]
  },
  {
   "cell_type": "code",
   "execution_count": 185,
   "metadata": {},
   "outputs": [
    {
     "name": "stdout",
     "output_type": "stream",
     "text": [
      "Q = 1.43883862496245\n",
      "Qe = 1.0708299961076067\n"
     ]
    }
   ],
   "source": [
    "import numpy as np\n",
    "\n",
    "# Исходная функция, которую нужно аппроксимировать моделью a(x, w)\n",
    "def func(x):\n",
    "    return 0.5 * x**2 - 0.1 * 1/np.exp(-x) + 0.5 * np.cos(2*x) - 2.\n",
    "\n",
    "# Функция аппроксимации\n",
    "def a(X, w):\n",
    "    return X @ w\n",
    "\n",
    "# Вычисление градиента\n",
    "def gradient(X, y, w):\n",
    "    return 2 * (X @ w - y) * X if X.ndim == 1 else (2 / X.shape[0]) * ((X @ w - y) @ X.T)\n",
    "\n",
    "# Начальные значения\n",
    "coord_x = np.arange(-5.0, 5.0, 0.1)  # значения по оси абсцисс [-5; 5] с шагом 0.1\n",
    "coord_y = func(coord_x)  # значения функции по оси ординат\n",
    "\n",
    "X = np.array([[1, x, x**2, np.cos(2*x), np.sin(2*x)] for x in coord_x])\n",
    "y = coord_y\n",
    "\n",
    "sz = len(coord_x)  # количество значений функций (точек)\n",
    "eta = np.array([0.01, 0.001, 0.0001, 0.01, 0.01])  # шаг обучения для каждого параметра w0, w1, w2, w3, w4\n",
    "w = np.array([0., 0., 0., 0., 0.])  # начальные значения параметров модели\n",
    "N = 500  # число итераций алгоритма SGD\n",
    "lm = 0.02  # значение параметра лямбда для вычисления скользящего экспоненциального среднего\n",
    "\n",
    "Qe = 0  # начальное значение среднего эмпирического риска\n",
    "np.random.seed(0)  # генерация одинаковых последовательностей псевдослучайных чисел\n",
    "\n",
    "# Градиентный спуск\n",
    "for n in range(N):\n",
    "    k = np.random.randint(0, sz-1)  # sz - размер выборки (массива coord_x)\n",
    "    w -= eta * gradient(X[k], y[k], w)\n",
    "\n",
    "    # Обновление экспоненциального скользящего среднего\n",
    "    Lk = np.square(a(X[k], w) - y[k])\n",
    "    Qe = lm * Lk + (1 - lm) * Qe\n",
    "\n",
    "Q = np.mean(np.square(a(X, w) - y))\n",
    "print(f'Q = {Q}\\nQe = {Qe}')"
   ]
  },
  {
   "cell_type": "code",
   "execution_count": 194,
   "metadata": {},
   "outputs": [
    {
     "name": "stdout",
     "output_type": "stream",
     "text": [
      "Q = 1.43883862496245\n",
      "Qe = 1.0708299961076067\n"
     ]
    }
   ],
   "source": [
    "import numpy as np\n",
    "\n",
    "# Исходная функция, которую нужно аппроксимировать моделью a(x, w)\n",
    "def func(x):\n",
    "    return 0.5 * x**2 - 0.1 * 1/np.exp(-x) + 0.5 * np.cos(2*x) - 2.\n",
    "\n",
    "# Функция аппроксимации\n",
    "def a(X, w):\n",
    "    return X @ w\n",
    "\n",
    "# Вычисление градиента\n",
    "def gradient(X, y, w):\n",
    "    return 2 * np.mean((X @ w - y).reshape(-1, 1) * X, axis=0)\n",
    "\n",
    "# Начальные значения\n",
    "coord_x = np.arange(-5.0, 5.0, 0.1)  # значения по оси абсцисс [-5; 5] с шагом 0.1\n",
    "coord_y = func(coord_x)  # значения функции по оси ординат\n",
    "\n",
    "X = np.array([[1, x, x**2, np.cos(2*x), np.sin(2*x)] for x in coord_x])\n",
    "y = coord_y\n",
    "\n",
    "sz = len(coord_x)  # количество значений функций (точек)\n",
    "eta = np.array([0.01, 0.001, 0.0001, 0.01, 0.01])  # шаг обучения для каждого параметра w0, w1, w2, w3, w4\n",
    "w = np.array([0., 0., 0., 0., 0.])  # начальные значения параметров модели\n",
    "N = 500  # число итераций алгоритма SGD\n",
    "lm = 0.02  # значение параметра лямбда для вычисления скользящего экспоненциального среднего\n",
    "\n",
    "Qe = 0  # начальное значение среднего эмпирического риска\n",
    "np.random.seed(0)  # генерация одинаковых последовательностей псевдослучайных чисел\n",
    "\n",
    "# Градиентный спуск\n",
    "for n in range(N):\n",
    "    k = np.random.randint(0, sz-1)  # sz - размер выборки (массива coord_x)\n",
    "    w -= eta * gradient(X[k], y[k], w)\n",
    "\n",
    "    # Обновление экспоненциального скользящего среднего\n",
    "    Lk = np.square(a(X[k], w) - y[k])\n",
    "    Qe = lm * Lk + (1 - lm) * Qe\n",
    "\n",
    "Q = np.mean(np.square(a(X, w) - y))\n",
    "# print(f'Q = {Q}\\nQe = {Qe}')"
   ]
  },
  {
   "cell_type": "code",
   "execution_count": 182,
   "metadata": {},
   "outputs": [
    {
     "name": "stdout",
     "output_type": "stream",
     "text": [
      "w = [4.986457387535088, -0.41780963958067896, 0.10273087874160171, 0.031724695628790815]\n",
      "Q = 0.13061463936073706\n"
     ]
    }
   ],
   "source": [
    "import numpy as np\n",
    "\n",
    "# Исходная функция, которую нужно аппроксимировать моделью a(x, w)\n",
    "def func(x):\n",
    "    return 0.1 * x**2 - np.sin(x) + 5.\n",
    "\n",
    "# Функция аппроксимации\n",
    "def a(X, w):\n",
    "    return X @ w\n",
    "\n",
    "# Вычисление градиента\n",
    "def gradient(X, y, w):\n",
    "    return 2 * np.mean((X @ w - y).reshape(-1, 1) * X, axis=0)\n",
    "\n",
    "# Начальные значения\n",
    "coord_x = np.arange(-5.0, 5.0, 0.1)  # значения по оси абсцисс [-5; 5] с шагом 0.1\n",
    "coord_y = func(coord_x)  # значения функции по оси ординат\n",
    "\n",
    "X = np.array([[1, x, x**2, x**3] for x in coord_x])\n",
    "y = coord_y\n",
    "\n",
    "eta = np.array([0.1, 0.01, 0.001, 0.0001])  # шаг обучения для каждого параметра w0, w1, w2, w3\n",
    "w = np.array([0., 0., 0., 0.])  # начальные значения параметров модели\n",
    "N = 200  # число итераций градиентного алгоритма\n",
    "\n",
    "# Градиентный спуск\n",
    "for n in range(N):\n",
    "    w -= eta * gradient(X, y, w)\n",
    "\n",
    "Q = np.mean(np.square(a(X, w) - y))\n",
    "print(f'w = {list(w)}\\nQ = {Q}')"
   ]
  },
  {
   "cell_type": "code",
   "execution_count": 225,
   "metadata": {},
   "outputs": [
    {
     "name": "stdout",
     "output_type": "stream",
     "text": [
      "Q = 0.02038708547914085\n",
      "Qe = 0.02008596800838947\n"
     ]
    }
   ],
   "source": [
    "import numpy as np\n",
    "\n",
    "# Исходная функция, которую нужно аппроксимировать моделью a(x, w)\n",
    "def func(x):\n",
    "    return 0.5 * x + 0.2 * x**2 - 0.05 * x**3 + 0.2 * np.sin(4*x) - 2.5\n",
    "\n",
    "# Функция аппроксимации\n",
    "def a(X, w):\n",
    "    return X @ w\n",
    "\n",
    "# Вычисление градиента\n",
    "def gradient(X, y, w):\n",
    "    return 2 * np.mean((X @ w - y).reshape(-1, 1) * X, axis=0)\n",
    "\n",
    "# Начальные значения\n",
    "coord_x = np.arange(-4.0, 6.0, 0.1)  # значения по оси абсцисс [-4; 6] с шагом 0.1\n",
    "coord_y = func(coord_x)  # значения функции по оси ординат\n",
    "\n",
    "X = np.array([[1, x, x**2, x**3] for x in coord_x])\n",
    "y = coord_y\n",
    "\n",
    "sz = len(coord_x)  # количество значений функций (точек)\n",
    "eta = np.array([0.1, 0.01, 0.001, 0.0001])  # шаг обучения для каждого параметра w0, w1, w2, w3\n",
    "w = np.array([0., 0., 0., 0.])  # начальные значения параметров модели\n",
    "N = 500  # число итераций алгоритма SGD\n",
    "lm = 0.02  # значение параметра лямбда для вычисления скользящего экспоненциального среднего\n",
    "batch_size = 50  # размер мини-батча (величина K = 50)\n",
    "\n",
    "Qe = 0  # начальное значение среднего эмпирического риска\n",
    "np.random.seed(0)  # генерация одинаковых последовательностей псевдослучайных чисел\n",
    "\n",
    "# Градиентный спуск\n",
    "for n in range(N):\n",
    "    k = np.random.randint(0, sz-batch_size-1)  # sz - размер выборки (массива coord_x)\n",
    "    X_batch = X[k:k+batch_size]\n",
    "    y_batch = y[k:k+batch_size]\n",
    "    w -= eta * gradient(X_batch, y_batch, w)\n",
    "\n",
    "    # Обновление экспоненциального скользящего среднего\n",
    "    Lk = np.mean(np.square(a(X_batch, w) - y_batch))\n",
    "    Qe = lm * Lk + (1 - lm) * Qe\n",
    "\n",
    "Q = np.mean(np.square(a(X, w) - y))\n",
    "# print(f'Q = {Q}\\nQe = {Qe}')"
   ]
  },
  {
   "cell_type": "code",
   "execution_count": 337,
   "metadata": {},
   "outputs": [
    {
     "name": "stdout",
     "output_type": "stream",
     "text": [
      "w = [-8.155534013725282, -0.1565627430848718, 1.7824006940696886]\n",
      "Q = 0.07\n",
      "Qe = 0.5639288362213944\n"
     ]
    }
   ],
   "source": [
    "import numpy as np\n",
    "\n",
    "# логарифмическая функция потерь\n",
    "def loss(w, x, y):\n",
    "    M = np.dot(w, x) * y\n",
    "    return np.log2(1 + np.exp(-M))\n",
    "\n",
    "# производная логарифмической функции потерь по вектору w\n",
    "def df(w, x, y):\n",
    "    M = np.dot(w, x) * y\n",
    "    return -(np.exp(-M) * x.T * y) / ((1 + np.exp(-M)) * np.log(2))\n",
    "\n",
    "data_x = [(3.0, 4.9), (2.7, 3.9), (3.0, 5.5), (2.6, 4.0), (2.9, 4.3), (3.1, 5.1), (2.2, 4.5), (2.3, 3.3), (2.7, 5.1), (3.3, 5.7), (2.8, 5.1), (2.8, 4.9), (2.5, 4.5), (2.8, 4.7), (3.2, 4.7), (3.2, 5.7), (2.8, 6.1), (3.6, 6.1), (2.8, 4.8), (2.9, 4.5), (3.1, 4.9), (2.3, 4.4), (3.3, 6.0), (2.6, 5.6), (3.0, 4.4), (2.9, 4.7), (2.8, 4.0), (2.5, 5.8), (2.4, 3.3), (2.8, 6.7), (3.0, 5.1), (2.3, 4.0), (3.1, 5.5), (2.8, 4.8), (2.7, 5.1), (2.5, 4.0), (3.1, 4.4), (3.8, 6.7), (3.1, 5.6), (3.1, 4.7), (3.0, 5.8), (3.0, 5.2), (3.0, 4.5), (2.7, 4.9), (3.0, 6.6), (2.9, 4.6), (3.0, 4.6), (2.6, 3.5), (2.7, 5.1), (2.5, 5.0), (2.0, 3.5), (3.2, 5.9), (2.5, 5.0), (3.4, 5.6), (3.4, 4.5), (3.2, 5.3), (2.2, 4.0), (2.2, 5.0), (3.3, 4.7), (2.7, 4.1), (2.4, 3.7), (3.0, 4.2), (3.2, 6.0), (3.0, 4.2), (3.0, 4.5), (2.7, 4.2), (2.5, 3.0), (2.8, 4.6), (2.9, 4.2), (3.1, 5.4), (2.5, 4.9), (3.2, 5.1), (2.8, 4.5), (2.8, 5.6), (3.4, 5.4), (2.7, 3.9), (3.0, 6.1), (3.0, 5.8), (3.0, 4.1), (2.5, 3.9), (2.4, 3.8), (2.6, 4.4), (2.9, 3.6), (3.3, 5.7), (2.9, 5.6), (3.0, 5.2), (3.0, 4.8), (2.7, 5.3), (2.8, 4.1), (2.8, 5.6), (3.2, 4.5), (3.0, 5.9), (2.9, 4.3), (2.6, 6.9), (2.8, 5.1), (2.9, 6.3), (3.2, 4.8), (3.0, 5.5), (3.0, 5.0), (3.8, 6.4)]\n",
    "data_y = [1, -1, 1, -1, -1, 1, -1, -1, -1, 1, 1, 1, 1, -1, -1, 1, 1, 1, -1, -1, -1, -1, 1, 1, -1, -1, -1, 1, -1, 1, 1, -1, 1, 1, 1, -1, -1, 1, 1, -1, 1, 1, -1, 1, 1, -1, -1, -1, 1, 1, -1, 1, 1, 1, -1, 1, -1, 1, -1, -1, -1, -1, 1, -1, -1, -1, -1, -1, -1, 1, -1, 1, -1, 1, 1, -1, 1, 1, -1, -1, -1, -1, -1, 1, 1, 1, 1, 1, -1, 1, -1, 1, -1, 1, 1, 1, -1, 1, -1, 1]\n",
    "\n",
    "X_train = np.array([[1, x[0], x[1]] for x in data_x])\n",
    "y_train = np.array(data_y)\n",
    "\n",
    "n_train = len(X_train)  # размер обучающей выборки\n",
    "w = [0.0, 0.0, 0.0]  # начальные весовые коэффициенты\n",
    "nt = np.array([0.5, 0.01, 0.01])   # шаг обучения для каждого параметра w0, w1, w2\n",
    "lm = 0.01  # значение параметра лямбда для вычисления скользящего экспоненциального среднего\n",
    "N = 1000  # число итераций алгоритма SGD\n",
    "\n",
    "Qe = 0\n",
    "np.random.seed(0)  # генерация одинаковых последовательностей псевдослучайных чисел\n",
    "\n",
    "for n in range(N):\n",
    "    k = np.random.randint(0, n_train-1)\n",
    "    Qk = loss(w, X_train[k], y_train[k])\n",
    "    Qe = lm * Qk+ (1 - lm) * Qe\n",
    "    w -= nt * df(w, X_train[k], y_train[k])\n",
    "    \n",
    "Q = (X_train @ w * y_train < 0).mean()\n",
    "print(f'w = {list(w)}\\nQ = {Q}\\nQe = {Qe}')"
   ]
  },
  {
   "cell_type": "code",
   "execution_count": 340,
   "metadata": {},
   "outputs": [
    {
     "name": "stdout",
     "output_type": "stream",
     "text": [
      "w = [-3.9936802253097503, 0.3485064933316406, 1.0787939190959954]\n",
      "Qe = 0.7092738058526213\n",
      "Q = 0.07\n"
     ]
    }
   ],
   "source": [
    "import numpy as np\n",
    "\n",
    "# Экспоненциальная функция потерь\n",
    "def loss(w, x, y):\n",
    "    M = np.dot(w, x) * y\n",
    "    return np.exp(-M)\n",
    "\n",
    "# Производная экспоненциальной функции потерь по вектору w\n",
    "def df(w, x, y):\n",
    "    M = np.dot(w, x.T) * y\n",
    "    return -np.exp(-M) * x.T * y\n",
    "\n",
    "data_x = [(5.8, 1.2), (5.6, 1.5), (6.5, 1.5), (6.1, 1.3), (6.4, 1.3), (7.7, 2.0), (6.0, 1.8), (5.6, 1.3), (6.0, 1.6), (5.8, 1.9), (5.7, 2.0), (6.3, 1.5), (6.2, 1.8), (7.7, 2.3), (5.8, 1.2), (6.3, 1.8), (6.0, 1.0), (6.2, 1.3), (5.7, 1.3), (6.3, 1.9), (6.7, 2.5), (5.5, 1.2), (4.9, 1.0), (6.1, 1.4), (6.0, 1.6), (7.2, 2.5), (7.3, 1.8), (6.6, 1.4), (5.6, 2.0), (5.5, 1.0), (6.4, 2.2), (5.6, 1.3), (6.6, 1.3), (6.9, 2.1), (6.8, 2.1), (5.7, 1.3), (7.0, 1.4), (6.1, 1.4), (6.1, 1.8), (6.7, 1.7), (6.0, 1.5), (6.5, 1.8), (6.4, 1.5), (6.9, 1.5), (5.6, 1.3), (6.7, 1.4), (5.8, 1.9), (6.3, 1.3), (6.7, 2.1), (6.2, 2.3), (6.3, 2.4), (6.7, 1.8), (6.4, 2.3), (6.2, 1.5), (6.1, 1.4), (7.1, 2.1), (5.7, 1.0), (6.8, 1.4), (6.8, 2.3), (5.1, 1.1), (4.9, 1.7), (5.9, 1.8), (7.4, 1.9), (6.5, 2.0), (6.7, 1.5), (6.5, 2.0), (5.8, 1.0), (6.4, 2.1), (7.6, 2.1), (5.8, 2.4), (7.7, 2.2), (6.3, 1.5), (5.0, 1.0), (6.3, 1.6), (7.7, 2.3), (6.4, 1.9), (6.5, 2.2), (5.7, 1.2), (6.9, 2.3), (5.7, 1.3), (6.1, 1.2), (5.4, 1.5), (5.2, 1.4), (6.7, 2.3), (7.9, 2.0), (5.6, 1.1), (7.2, 1.8), (5.5, 1.3), (7.2, 1.6), (6.3, 2.5), (6.3, 1.8), (6.7, 2.4), (5.0, 1.0), (6.4, 1.8), (6.9, 2.3), (5.5, 1.3), (5.5, 1.1), (5.9, 1.5), (6.0, 1.5), (5.9, 1.8)]\n",
    "data_y = [-1, -1, -1, -1, -1, 1, 1, -1, -1, 1, 1, -1, 1, 1, -1, 1, -1, -1, -1, 1, 1, -1, -1, -1, -1, 1, 1, -1, 1, -1, 1, -1, -1, 1, 1, -1, -1, 1, 1, -1, 1, 1, -1, -1, -1, -1, 1, -1, 1, 1, 1, 1, 1, -1, -1, 1, -1, -1, 1, -1, 1, -1, 1, 1, -1, 1, -1, 1, 1, 1, 1, 1, -1, -1, 1, 1, 1, -1, 1, -1, -1, -1, -1, 1, 1, -1, 1, -1, 1, 1, 1, 1, -1, 1, 1, -1, -1, -1, -1, 1]\n",
    "\n",
    "X_train = np.array([[1, x[0], x[1]] for x in data_x])\n",
    "y_train = np.array(data_y)\n",
    "\n",
    "n_train = len(X_train)  # n_train - размер выборки (массива X_train)\n",
    "w = [0.0, 0.0, 0.0]  # начальные весовые коэффициенты\n",
    "nt = np.array([0.5, 0.01, 0.01])  # шаг обучения для каждого параметра w0, w1, w2\n",
    "lm = 0.01  # значение параметра лямбда для вычисления скользящего экспоненциального среднего\n",
    "N = 500  # число итераций алгоритма SGD\n",
    "batch_size = 10  # размер мини-батча (величина K = 10)\n",
    "\n",
    "Qe = loss(w, X_train.T, y_train).mean()  # начальное значение среднего эмпирического риска\n",
    "np.random.seed(0)  # генерация одинаковых последовательностей псевдослучайных чисел\n",
    "\n",
    "for n in range(N):\n",
    "    k = np.random.randint(0, n_train-batch_size-1)\n",
    "    X_batch = X_train[k:k+batch_size]\n",
    "    y_batch = y_train[k:k+batch_size]\n",
    "\n",
    "    Qk = loss(w, X_batch.T, y_batch).mean()  # усеченный эмпирический риск (эмпирический риск на текущем мини-батче)\n",
    "    Qe = lm * Qk + (1 - lm) * Qe  # экспоненциальное скользящее среднее эмпирического риска\n",
    "    w -= nt * df(w, X_batch, y_batch).mean(axis=1)  # обновление весов по среднему градиенту на мини-батче\n",
    "    \n",
    "Q = (X_train @ w * y_train < 0).mean()  # средний эмпирический риск\n",
    "print(f'w = {list(w)}\\nQe = {Qe}\\nQ = {Q}')"
   ]
  },
  {
   "cell_type": "code",
   "execution_count": 341,
   "metadata": {},
   "outputs": [
    {
     "name": "stdout",
     "output_type": "stream",
     "text": [
      "w = [5, -1, -3/2]\n"
     ]
    }
   ],
   "source": [
    "import numpy as np\n",
    "import sympy as sp\n",
    "\n",
    "# Координаты точек прямой\n",
    "p1, p2 = [5, 0], [-1, 4]\n",
    "\n",
    "# Находим угловой коэффициент k и смещение b (w0)\n",
    "# k = sp.oo угловой коэффициент стремится к бесконечности\n",
    "# x = w0 (x1 = w0) будет уравнением линии\n",
    "k, w0 = np.polyfit([p1[0], p2[0]], [p1[1], p2[1]], 1) if p1[0] != p2[0] else np.inf, p1[0]\n",
    "\n",
    "# Объявляем символьные переменные для коэффициентов w1, w2\n",
    "w1, w2 = sp.symbols('w1 w2')\n",
    "\n",
    "# Составляем уравнения на основе координат точек: w1*x1 + w2*x2 + w0 = 0\n",
    "equations = [sp.Eq(w1*x1 + w2*x2 + w0, 0) for x1, x2 in [p1, p2]]\n",
    "\n",
    "# Решаем систему уравнений для w1, w2 и w0\n",
    "solution = sp.solve(equations, (w1, w2))\n",
    "\n",
    "w = [w0, solution[w1], solution[w2]]\n",
    "print(f'w = {w}')"
   ]
  },
  {
   "cell_type": "code",
   "execution_count": null,
   "metadata": {},
   "outputs": [],
   "source": [
    "import numpy as np\n",
    "\n",
    "# логарифмическая функция потерь\n",
    "def loss(w, x, y):\n",
    "    M = np.dot(w, x) * y\n",
    "    return np.log2(1 + np.exp(-M))\n",
    "\n",
    "# производная логарифмической функции потерь по вектору w\n",
    "def df(w, x, y):\n",
    "    M = np.dot(w, x) * y\n",
    "    return -(np.exp(-M) * x.T * y) / ((1 + np.exp(-M)) * np.log(2))\n",
    "\n",
    "data_x = [(3.0, 4.9), (2.7, 3.9), (3.0, 5.5), (2.6, 4.0), (2.9, 4.3), (3.1, 5.1), (2.2, 4.5), (2.3, 3.3), (2.7, 5.1), (3.3, 5.7), (2.8, 5.1), (2.8, 4.9), (2.5, 4.5), (2.8, 4.7), (3.2, 4.7), (3.2, 5.7), (2.8, 6.1), (3.6, 6.1), (2.8, 4.8), (2.9, 4.5), (3.1, 4.9), (2.3, 4.4), (3.3, 6.0), (2.6, 5.6), (3.0, 4.4), (2.9, 4.7), (2.8, 4.0), (2.5, 5.8), (2.4, 3.3), (2.8, 6.7), (3.0, 5.1), (2.3, 4.0), (3.1, 5.5), (2.8, 4.8), (2.7, 5.1), (2.5, 4.0), (3.1, 4.4), (3.8, 6.7), (3.1, 5.6), (3.1, 4.7), (3.0, 5.8), (3.0, 5.2), (3.0, 4.5), (2.7, 4.9), (3.0, 6.6), (2.9, 4.6), (3.0, 4.6), (2.6, 3.5), (2.7, 5.1), (2.5, 5.0), (2.0, 3.5), (3.2, 5.9), (2.5, 5.0), (3.4, 5.6), (3.4, 4.5), (3.2, 5.3), (2.2, 4.0), (2.2, 5.0), (3.3, 4.7), (2.7, 4.1), (2.4, 3.7), (3.0, 4.2), (3.2, 6.0), (3.0, 4.2), (3.0, 4.5), (2.7, 4.2), (2.5, 3.0), (2.8, 4.6), (2.9, 4.2), (3.1, 5.4), (2.5, 4.9), (3.2, 5.1), (2.8, 4.5), (2.8, 5.6), (3.4, 5.4), (2.7, 3.9), (3.0, 6.1), (3.0, 5.8), (3.0, 4.1), (2.5, 3.9), (2.4, 3.8), (2.6, 4.4), (2.9, 3.6), (3.3, 5.7), (2.9, 5.6), (3.0, 5.2), (3.0, 4.8), (2.7, 5.3), (2.8, 4.1), (2.8, 5.6), (3.2, 4.5), (3.0, 5.9), (2.9, 4.3), (2.6, 6.9), (2.8, 5.1), (2.9, 6.3), (3.2, 4.8), (3.0, 5.5), (3.0, 5.0), (3.8, 6.4)]\n",
    "data_y = [1, -1, 1, -1, -1, 1, -1, -1, -1, 1, 1, 1, 1, -1, -1, 1, 1, 1, -1, -1, -1, -1, 1, 1, -1, -1, -1, 1, -1, 1, 1, -1, 1, 1, 1, -1, -1, 1, 1, -1, 1, 1, -1, 1, 1, -1, -1, -1, 1, 1, -1, 1, 1, 1, -1, 1, -1, 1, -1, -1, -1, -1, 1, -1, -1, -1, -1, -1, -1, 1, -1, 1, -1, 1, 1, -1, 1, 1, -1, -1, -1, -1, -1, 1, 1, 1, 1, 1, -1, 1, -1, 1, -1, 1, 1, 1, -1, 1, -1, 1]\n",
    "\n",
    "X_train = np.array([[1, x[0], x[1]] for x in data_x])\n",
    "y_train = np.array(data_y)\n",
    "\n",
    "n_train = len(X_train)  # размер обучающей выборки\n",
    "w = [0.0, 0.0, 0.0]  # начальные весовые коэффициенты\n",
    "nt = np.array([0.5, 0.01, 0.01])   # шаг обучения для каждого параметра w0, w1, w2\n",
    "lm = 0.01  # значение параметра лямбда для вычисления скользящего экспоненциального среднего\n",
    "N = 1000  # число итераций алгоритма SGD\n",
    "\n",
    "Qe = 0\n",
    "np.random.seed(0)  # генерация одинаковых последовательностей псевдослучайных чисел\n",
    "\n",
    "for n in range(N):\n",
    "    k = np.random.randint(0, n_train-1)\n",
    "    Qk = loss(w, X_train[k], y_train[k])\n",
    "    Qe = lm * Qk+ (1 - lm) * Qe\n",
    "    w -= nt * df(w, X_train[k], y_train[k])\n",
    "    \n",
    "Q = (X_train @ w * y_train < 0).mean()\n",
    "print(f'w = {list(w)}\\nQ = {Q}\\nQe = {Qe}')"
   ]
  },
  {
   "cell_type": "markdown",
   "metadata": {},
   "source": [
    "<link rel=\"stylesheet\" type=\"text/css\" href=\"./data/styles/styles.css\">\n",
    "\n",
    "### 2.4 Оптимизаторы градиентных алгоритмов: RMSProp, AdaDelta, Adam\n",
    "\n",
    "- Оптимизаторы позволяют сгладить траекторию движения к точке минимума функции в градиентных алгоритмах.\n",
    "- Оптимизаторы предназначены для преодоления градиентными алгоритмами локальных точек минимума.\n",
    "- Оптимизаторы - это эвристики, которые хорошо себя зарекомендовали в соответствующих практических задачах."
   ]
  },
  {
   "cell_type": "markdown",
   "metadata": {},
   "source": [
    "<link rel=\"stylesheet\" type=\"text/css\" href=\"./data/styles/styles.css\">\n",
    "\n",
    "##### Градиентный спуск с оптимизацией методом импульсов\n",
    "\n",
    "Программа поиска точки минимума функции: $f(x) = -0.5 \\cdot x + 0.2 \\cdot x^2 - 0.03 \\cdot x^3 - 0.3 \\cdot \\sin(4 \\cdot x)$ с помощью градиентного алгоритма с методом импульсов: $v = \\gamma \\cdot v + (1 - \\gamma) \\cdot \\eta \\cdot \\frac{df(x)}{dx}$, где: $x_n = x_{n-1} - v$, со следующими параметрами и начальными значениями:\n",
    "- $\\eta = 0.1$ - коэффициент обучения\n",
    "- $x_0 = -3.5$ - начальное значение $x$\n",
    "- $N = 200$ — число итераций градиентного алгоритма\n",
    "- $\\gamma = 0.8$ - коэффициент импульса\n",
    "- $v = 0$ — начальное значение импульса\n",
    "\n",
    "Это выражение: $v = \\gamma \\cdot v + (1 - \\gamma) \\cdot \\eta \\cdot \\frac{df(x)}{dx}$ представляет собой **импульс (momentum)** в градиентном спуске.\n",
    "\n",
    "Объяснение:\n",
    "- **$\\gamma \\cdot v$**: Здесь $v$ — это накопленный импульс, а $\\gamma$ — коэффициент, который определяет, какая часть предыдущего импульса будет сохранена. Это придает алгоритму инерцию и позволяет ему продолжать двигаться в том же направлении, смягчая колебания.\n",
    "- **$(1 - \\gamma) \\cdot \\eta \\cdot \\frac{df(x)}{dx}$**: Эта часть формулы отвечает за вычисление градиента текущей функции потерь $f(x)$ с учетом шага обучения $\\eta = 0.1$. Новый градиент добавляется к накопленному импульсу.\n",
    "\n",
    "Таким образом, $v$ в этой формуле — это комбинация предыдущего импульса и текущего градиента, что помогает ускорить обучение и улучшить сходимость, особенно в задачах с узкими и длинными долинами, где простой градиентный спуск может застрять.\n",
    "\n"
   ]
  },
  {
   "cell_type": "code",
   "execution_count": 392,
   "metadata": {},
   "outputs": [
    {
     "name": "stdout",
     "output_type": "stream",
     "text": [
      "Точка остановки с импульсом: x = 0.46321887819001595\n"
     ]
    }
   ],
   "source": [
    "# Градиентный спуск с оптимизацией методом импульсов\n",
    "# Импорт библиотек\n",
    "import numpy as np\n",
    "\n",
    "# Исходная функция\n",
    "def func(x):\n",
    "    return -0.5 * x + 0.2 * x ** 2 - 0.03 * x ** 3 - 0.3 * np.sin(4 * x)\n",
    "\n",
    "# Производная функции\n",
    "def df(x):\n",
    "    return -0.5 + 0.4 * x - 0.09 * x ** 2 - 1.2 * np.cos(4 * x)\n",
    "\n",
    "# Заданные параметры\n",
    "eta = 0.1    # коэффициент обучения\n",
    "x = -3.5     # начальное значение x\n",
    "N = 200      # число итераций градиентного алгоритма\n",
    "gamma = 0.8  # коэффициент импульса\n",
    "v = 0        # начальное значение импульса\n",
    "\n",
    "# Градиентный спуск\n",
    "for epoch in range(N):\n",
    "    v = gamma * v + (1 - gamma) * eta * df(x)  # градиент с импульсом\n",
    "    x -= v\n",
    "\n",
    "# Вывод результата\n",
    "print(f'Точка остановки с импульсом: x = {x}')"
   ]
  },
  {
   "cell_type": "markdown",
   "metadata": {},
   "source": [
    "<link rel=\"stylesheet\" type=\"text/css\" href=\"./data/styles/styles.css\">\n",
    "\n",
    "##### Градиентный спуск без метода импульсов"
   ]
  },
  {
   "cell_type": "code",
   "execution_count": 389,
   "metadata": {},
   "outputs": [
    {
     "name": "stdout",
     "output_type": "stream",
     "text": [
      "Точка остановки без импульса: x_simple = -0.9465345999520599\n"
     ]
    }
   ],
   "source": [
    "# Градиентный спуск без метода импульсов\n",
    "x_simple = -3.5  # начальное значение x для сравнения\n",
    "\n",
    "for epoch in range(N):\n",
    "    x_simple -= eta * df(x_simple)\n",
    "\n",
    "# Вывод результата\n",
    "print(f'Точка остановки без импульса: x_simple = {x_simple}')"
   ]
  },
  {
   "cell_type": "markdown",
   "metadata": {},
   "source": [
    "<link rel=\"stylesheet\" type=\"text/css\" href=\"./data/styles/styles.css\">\n",
    "\n",
    "##### График градиентного спуска с методом импульсов и без него"
   ]
  },
  {
   "cell_type": "code",
   "execution_count": 388,
   "metadata": {},
   "outputs": [
    {
     "data": {
      "image/png": "[encoded data removed]",
      "text/plain": [
       "<Figure size 640x480 with 1 Axes>"
      ]
     },
     "metadata": {},
     "output_type": "display_data"
    }
   ],
   "source": [
    "# Построение графика\n",
    "# Импорт библиотек\n",
    "from matplotlib import pyplot as plt\n",
    "\n",
    "# Создаем диапазон значений x\n",
    "x_values = np.linspace(-5, 5, N)  # N точек от -5 до 5\n",
    "\n",
    "# Вычисляем значения функции\n",
    "f_values = func(x_values)\n",
    "\n",
    "# Рисуем график\n",
    "plt.grid(True)\n",
    "plt.title(\"Градиентный спуск\")\n",
    "plt.xlabel(\"Значение x\")\n",
    "plt.ylabel(\"Значение f(x)\")\n",
    "plt.plot(x_values, f_values, label=\"Траектория спуска\")\n",
    "plt.scatter(x_simple, func(x_simple), color='red', label=f\"Точка остановки без импульса: x = {x_simple:.2f}\", zorder=2)\n",
    "plt.scatter(x, func(x), color='green', label=f\"Точка остановки с импульсом: x = {x:.2f}\", zorder=2)\n",
    "plt.legend()\n",
    "plt.show()"
   ]
  },
  {
   "cell_type": "markdown",
   "metadata": {},
   "source": [
    "<link rel=\"stylesheet\" type=\"text/css\" href=\"./data/styles/styles.css\">\n",
    "\n",
    "##### Примеры градиентных алгоритмов\n",
    "\n",
    "Работу градиентных алгоритмов в общем виде можно записать так: $w_n = w_{n-1} - S$, где $S$ — некоторое корректирующее значение или вектор (если $w$ является вектором).\n",
    "\n",
    "1. **Метод импульсов**: $S = \\gamma \\cdot S + \\eta \\cdot \\nabla Q(w)$\n",
    "2. **Импульс Нестерова**: $S = \\gamma \\cdot S + \\eta \\cdot \\nabla Q(w - \\gamma \\cdot S)$\n",
    "3. **RMSProp**: $G = \\alpha \\cdot G + (1 - \\alpha) \\cdot \\nabla Q(w) \\odot \\nabla Q(w); \\,\\, S = \\frac{\\eta \\cdot \\nabla Q(w)}{\\sqrt{G} + \\epsilon}$\n",
    "4. **Диагональный метод Левенберга-Марквардта**: $S = \\eta \\cdot \\left(\\frac{\\partial^2 L_i(w)}{\\partial w^2} + \\mu \\right)^{-1} \\cdot \\frac{\\partial L_i(w)}{\\partial w}$\n"
   ]
  }
 ],
 "metadata": {
  "kernelspec": {
   "display_name": "Python 3",
   "language": "python",
   "name": "python3"
  },
  "language_info": {
   "codemirror_mode": {
    "name": "ipython",
    "version": 3
   },
   "file_extension": ".py",
   "mimetype": "text/x-python",
   "name": "python",
   "nbconvert_exporter": "python",
   "pygments_lexer": "ipython3",
   "version": "3.11.2"
  }
 },
 "nbformat": 4,
 "nbformat_minor": 2
}
